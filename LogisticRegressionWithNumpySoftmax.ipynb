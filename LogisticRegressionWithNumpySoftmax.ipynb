{
  "nbformat": 4,
  "nbformat_minor": 0,
  "metadata": {
    "colab": {
      "name": "LogisticRegressionWithNumpySoftmax.ipynb",
      "version": "0.3.2",
      "provenance": [],
      "collapsed_sections": [],
      "include_colab_link": true
    },
    "kernelspec": {
      "name": "python3",
      "display_name": "Python 3"
    }
  },
  "cells": [
    {
      "cell_type": "markdown",
      "metadata": {
        "id": "view-in-github",
        "colab_type": "text"
      },
      "source": [
        "<a href=\"https://colab.research.google.com/github/Wasabi-Bobby/MachineLearningHomework/blob/master/LogisticRegressionWithNumpySoftmax.ipynb\" target=\"_parent\"><img src=\"https://colab.research.google.com/assets/colab-badge.svg\" alt=\"Open In Colab\"/></a>"
      ]
    },
    {
      "metadata": {
        "id": "nRcKubmnx-16",
        "colab_type": "code",
        "outputId": "3539f052-b17f-41d2-df1e-8774b792ac9b",
        "colab": {
          "base_uri": "https://localhost:8080/",
          "height": 34
        }
      },
      "cell_type": "code",
      "source": [
        "from keras.datasets import mnist\n",
        "\n",
        "(train_images_original, train_labels_original), (test_images_original, test_labels_original) = mnist.load_data()\n",
        "\n",
        "train_images = train_images_original.reshape((60000, 28 * 28))\n",
        "train_images = train_images.astype('float32') / 255\n",
        "\n",
        "train_labels = train_labels_original.reshape((60000, 1))\n",
        "\n",
        "test_images = test_images_original.reshape((10000, 28 * 28))\n",
        "test_images = test_images.astype('float32') / 255\n",
        "\n",
        "test_labels = test_labels_original.reshape((10000, 1))"
      ],
      "execution_count": 3,
      "outputs": [
        {
          "output_type": "stream",
          "text": [
            "Using TensorFlow backend.\n"
          ],
          "name": "stderr"
        }
      ]
    },
    {
      "metadata": {
        "id": "9P24ftQD-DRZ",
        "colab_type": "code",
        "colab": {}
      },
      "cell_type": "code",
      "source": [
        "import numpy as np\n",
        "import math\n",
        "\n",
        "class Layer:\n",
        "  \n",
        "  def __init__(self, number_classifiers, output_dim):\n",
        "    self.number_classifiers = 10\n",
        "    self.output_dim = output_dim\n",
        "    self.loss_points = np.array([])\n",
        "    self.mini_batch_size = 6000\n",
        "    self.epoch = 10\n",
        "    # Change this to either MSE or BCE or SMCE\n",
        "    self.option = \"SMCE\"\n",
        "    # Rate of learning\n",
        "    # Be careful about setting this too high, turns out I get an overflow error due to my bias rapidly increasing at an alarming rate\n",
        "    # Don't know if I should cap the bias or not, gotta ask the professor about this one\n",
        "    self.rate = .1\n",
        "    \n",
        "    self.s = np.random.permutation(len(train_labels))\n",
        "\n",
        "    # Added a division of sqrt(input) for initializaing weights\n",
        "    # This is known as the Xavier Initialization and has less variance\n",
        "    self.weight = np.random.randn(number_classifiers, 28 * 28) / math.sqrt(10)\n",
        "    self.weight = np.array(self.weight, dtype=np.float64)\n",
        "    self.bias = np.random.random_sample(10)\n",
        "    self.bias = np.array(self.bias, dtype=np.float64)\n",
        "    \n",
        "  def test(self):\n",
        "    #Initializing variables\n",
        "    correct_tally = 0\n",
        "    a_matrix = np.zeros(10)\n",
        "    \n",
        "    for i in range((int)(len(test_labels))):\n",
        "      current_feature = test_images[i]\n",
        "      #Resetting A matrix\n",
        "      a_matrix.fill(0)\n",
        "      z_sum = 0\n",
        "      z_matrix = np.zeros(10)\n",
        "      a_matrix = np.zeros(10)\n",
        "      for j in range(len(self.weight)):\n",
        "        current_weight  = self.weight[j]\n",
        "        z = current_feature.T.dot(current_weight)  + self.bias[j]\n",
        "        z_matrix[j] = z\n",
        "        z_sum += math.e**z\n",
        "      for j in range(len(self.weight)):\n",
        "        a = softmax(z_matrix[j], z_sum)\n",
        "        a_matrix[j] = a\n",
        "      maximum_arg = a_matrix.argmax()\n",
        "      if maximum_arg == test_labels[i]:\n",
        "        correct_tally += 1\n",
        "        \n",
        "    if correct_tally == 0:\n",
        "      print(\"The classifiers managed to have an accurate guess rate of : 0% \")\n",
        "    else:\n",
        "      print(\"The classifiers managed to have an accurate guess rate of : \" + str(correct_tally / len(test_labels) * 100))\n",
        "  \n",
        "\n",
        "  def forward_prop(self):\n",
        "    for epoch_index in range(self.epoch):\n",
        "      for i in range(self.mini_batch_size):\n",
        "        current_index   = epoch_index * self.mini_batch_size + i\n",
        "        current_feature = train_images[self.s[current_index]]\n",
        "        current_label   = train_labels[self.s[current_index]]\n",
        "        \n",
        "        kronecker_delta = np.zeros((10,10))\n",
        "        #print(kronecker_delta)\n",
        "        for j in range(10):\n",
        "          kronecker_delta[j][j] = 1\n",
        "        z_sum = 0.0\n",
        "        z_matrix = np.zeros(10)\n",
        "        a_matrix = np.zeros(10)\n",
        "        y_matrix = np.zeros(10)\n",
        "        y_matrix[current_label] = 1\n",
        "        for j in range(len(self.weight)):\n",
        "          current_weight  = self.weight[j]\n",
        "          z = current_feature.T.dot(current_weight)  + self.bias[j]\n",
        "          z_matrix[j] = z\n",
        "          z_sum += math.e**z\n",
        "        for j in range(len(self.weight)):\n",
        "          a = softmax(z_matrix[j], z_sum)\n",
        "          a_matrix[j] = a\n",
        "        self.backward_prop_categorical(a_matrix, kronecker_delta, current_feature, y_matrix)\n",
        "        \n",
        "  def backward_prop_categorical(self, a_matrix, kronecker_delta, current_feature, y_matrix):\n",
        "    for i in range(len(self.weight)):\n",
        "      matrix_sum = 0\n",
        "      \n",
        "      for j in range(len(self.weight)):\n",
        "        matrix_sum += y_matrix[j] * (a_matrix[i] - kronecker_delta[j][i])\n",
        "        #print(matrix_sum)\n",
        "      self.weight[i] = self.weight[i] - self.rate * matrix_sum * current_feature\n",
        "      #print(self.bias[i])\n",
        "      self.bias[i]   = self.bias[i] - self.rate * matrix_sum\n",
        "      if self.bias[i] > 10 or self.bias[i] < -10:\n",
        "        print(self.bias[i])\n",
        "      \n",
        "def softmax(z, z_total):\n",
        "  \n",
        "  return math.e**z / z_total"
      ],
      "execution_count": 0,
      "outputs": []
    },
    {
      "metadata": {
        "id": "omcl0Flnu20F",
        "colab_type": "code",
        "outputId": "1559d28c-afd5-4824-e4b5-baaa73a9c887",
        "colab": {
          "base_uri": "https://localhost:8080/",
          "height": 34
        }
      },
      "cell_type": "code",
      "source": [
        "new_layer = Layer(10, 1)\n",
        "new_layer.forward_prop()\n",
        "new_layer.test()"
      ],
      "execution_count": 34,
      "outputs": [
        {
          "output_type": "stream",
          "text": [
            "The classifiers managed to have an accurate guess rate of : 85.98\n"
          ],
          "name": "stdout"
        }
      ]
    }
  ]
}