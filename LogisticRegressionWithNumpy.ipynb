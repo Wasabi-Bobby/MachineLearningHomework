{
  "nbformat": 4,
  "nbformat_minor": 0,
  "metadata": {
    "colab": {
      "name": "LogisticRegressionWithNumpy.ipynb",
      "version": "0.3.2",
      "provenance": [],
      "include_colab_link": true
    },
    "kernelspec": {
      "name": "python3",
      "display_name": "Python 3"
    }
  },
  "cells": [
    {
      "cell_type": "markdown",
      "metadata": {
        "id": "view-in-github",
        "colab_type": "text"
      },
      "source": [
        "<a href=\"https://colab.research.google.com/github/Wasabi-Bobby/MachineLearningHomework/blob/master/LogisticRegressionWithNumpy.ipynb\" target=\"_parent\"><img src=\"https://colab.research.google.com/assets/colab-badge.svg\" alt=\"Open In Colab\"/></a>"
      ]
    },
    {
      "metadata": {
        "id": "nRcKubmnx-16",
        "colab_type": "code",
        "colab": {
          "base_uri": "https://localhost:8080/",
          "height": 68
        },
        "outputId": "f84f879e-f2ba-4c00-ae49-91855b2edfd8"
      },
      "cell_type": "code",
      "source": [
        "from keras.datasets import mnist\n",
        "\n",
        "(train_images_original, train_labels_original), (test_images_original, test_labels_original) = mnist.load_data()\n",
        "\n",
        "train_images = train_images_original.reshape((60000, 28 * 28))\n",
        "train_images = train_images.astype('float32') / 255\n",
        "\n",
        "train_labels = train_labels_original.reshape((60000, 1))\n",
        "\n",
        "test_images = test_images_original.reshape((10000, 28 * 28))\n",
        "test_images = test_images.astype('float32') / 255\n",
        "\n",
        "test_labels = test_labels_original.reshape((10000, 1))"
      ],
      "execution_count": 1,
      "outputs": [
        {
          "output_type": "stream",
          "text": [
            "Using TensorFlow backend.\n"
          ],
          "name": "stderr"
        },
        {
          "output_type": "stream",
          "text": [
            "Downloading data from https://s3.amazonaws.com/img-datasets/mnist.npz\n",
            "11493376/11490434 [==============================] - 1s 0us/step\n"
          ],
          "name": "stdout"
        }
      ]
    },
    {
      "metadata": {
        "id": "6-v4HVL0Ne7k",
        "colab_type": "code",
        "colab": {
          "base_uri": "https://localhost:8080/",
          "height": 68
        },
        "outputId": "5fcace56-8816-4a6b-9908-8c68dbffa24f"
      },
      "cell_type": "code",
      "source": [
        "import numpy as np\n",
        "\n",
        "a = np.random.permutation(10)\n",
        "arg_max = np.argmax(a)\n",
        "print(a)\n",
        "print(arg_max)\n",
        "print(a[arg_max])"
      ],
      "execution_count": 12,
      "outputs": [
        {
          "output_type": "stream",
          "text": [
            "[3 2 6 5 4 0 7 1 8 9]\n",
            "9\n",
            "9\n"
          ],
          "name": "stdout"
        }
      ]
    },
    {
      "metadata": {
        "id": "9P24ftQD-DRZ",
        "colab_type": "code",
        "colab": {}
      },
      "cell_type": "code",
      "source": [
        "import numpy as np\n",
        "import math\n",
        "\n",
        "\n",
        "# Make 10 trainers\n",
        "# Each handle a digit from 0 - 9\n",
        "# Each will train on 9 digits\n",
        "# For testing we make all of them test on the number and argmax the highest option\n",
        "# If the highest option is 50 percent or below then it will say the the item isn't a number\n",
        "\n",
        "def sigmoid_double(x):\n",
        "    # Simple implementation of the sigmoid function for double values.\n",
        "    return 1.0 / (1.0 + np.exp(-x))\n",
        "\n",
        "\n",
        "def sigmoid_prime_double(x):\n",
        "    # Simple implementation of the derivative of of the sigmoid function for double values.\n",
        "    return sigmoid_double(x) * (1 - sigmoid_double(x))\n",
        "\n",
        "\n",
        "def sigmoid(z):\n",
        "    # Simple implementation of the sigmoid function for vectors.\n",
        "    return np.vectorize(sigmoid_double)(z)\n",
        "\n",
        "\n",
        "def sigmoid_prime(z):\n",
        "    # Simple implementation of the derivative of the sigmoid function for vectors.\n",
        "    return np.vectorize(sigmoid_prime_double)(z)\n",
        "\n",
        "class Layer:\n",
        "  \n",
        "  def __init__(self, number_classifiers, output_dim):\n",
        "    self.number_classifiers = 10\n",
        "    self.output_dim = output_dim\n",
        "    self.loss_points = np.array([])\n",
        "    self.mini_batch_size = 5000\n",
        "    self.epoch = 10\n",
        "    # Change this to either MSE or BCE\n",
        "    self.option = \"MSE\"\n",
        "    # Rate of learning\n",
        "    self.rate = 1\n",
        "    \n",
        "    self.s = np.random.permutation(len(train_labels))\n",
        "\n",
        "    # Added a division of sqrt(input) for initializaing weights\n",
        "    # This is known as the Xavier Initialization and has less variance\n",
        "    self.weight = np.random.randn(number_classifiers, 28 * 28)\n",
        "    self.bias = np.random.random_sample()\n",
        "    \n",
        "  def test(self):\n",
        "    #Initializing variables\n",
        "    correct_tally = 0\n",
        "    a_matrix = np.zeros(10)\n",
        "    \n",
        "    for i in range((int)(len(test_labels))):\n",
        "      current_feature = test_images[i]\n",
        "      #Resetting A matrix\n",
        "      a_matrix.fill(0)\n",
        "      \n",
        "      for j in range(self.number_classifiers):\n",
        "        current_weight = self.weight[j]\n",
        "        z = current_feature.T.dot(current_weight) + self.bias\n",
        "        a_matrix[j] = sigmoid(z)\n",
        "      maximum_arg = a_matrix.argmax()\n",
        "      if maximum_arg == test_labels[i]:\n",
        "        correct_tally += 1\n",
        "        \n",
        "    if correct_tally == 0:\n",
        "      print(\"The classifiers managed to have an accurate guess rate of : 0% \")\n",
        "    else:\n",
        "      print(\"The classifiers managed to have an accurate guess rate of : \" + str(correct_tally / len(test_labels) * 100))\n",
        "      \n",
        "\n",
        "  def forward_prop(self):\n",
        "    for epoch_index in range(self.epoch):\n",
        "      for i in range(self.mini_batch_size):\n",
        "        current_index   = epoch_index * self.mini_batch_size + i\n",
        "        current_feature = train_images[self.s[current_index]]\n",
        "        current_label   = train_labels[self.s[current_index]]\n",
        "        \n",
        "        for j in range(len(self.weight)):\n",
        "          current_weight  = self.weight[j]\n",
        "          label_for_weight = 1\n",
        "          \n",
        "          # If the current label isnt the classifier index (e.g. label 1 for classifier 0) then set label for weight to 0\n",
        "          if j != current_label:\n",
        "            label_for_weight = 0\n",
        "            \n",
        "          z = current_feature.T.dot(current_weight)  + self.bias\n",
        "          a = sigmoid(z)\n",
        "          \n",
        "          self.backward_prop(j, a, label_for_weight, z, current_feature)\n",
        "\n",
        "  def backward_prop(self, current_training_classifier, prediction, label, z, feature):\n",
        "    self.update_weights(current_training_classifier, prediction, label, z, feature)\n",
        "    self.update_bias(prediction, label, z, feature)\n",
        "    \n",
        "  \n",
        "  def update_weights(self, current_training_classifier, prediction, label, z, feature):\n",
        "    # Have to make this change all weights, so either for loop or make squared error give a matrix to transpose\n",
        "    # Note: Even though I'm passing label, thinking about it logically this should always be one\n",
        "    # This is because any time I am testing a number on a classifier it should be equal to that number that I am passing\n",
        "    # Therefore, it should always be one for this scenario and we are merely training it to see if it can accurately detect that the number is for that classifier or not\n",
        "    # Also, 1 means that it is that number while 0 means it isn't since sigmoid gives a value from 0-1 with how we calculate it\n",
        "    \n",
        "    if self.option == \"MSE\":\n",
        "      new_value = self.weight[current_training_classifier] - self.rate * self.squared_error_gradient(prediction, label, z, feature)\n",
        "      self.weight[current_training_classifier] = new_value\n",
        "      \n",
        "    elif self.option == \"BCE\":\n",
        "      self.weight[current_training_classifier] = self.weight[current_training_classifier] - self.rate * self.binary_cross_entropy_deriv(prediction, label)\n",
        "   \n",
        "  def update_bias(self, prediction, label, z, feature):\n",
        "    if self.option == \"MSE\":\n",
        "      self.bias = self.bias - self.rate * self.squared_error_loss_deriv(prediction, label) * (prediction * (1-prediction)) # sigmoid_prime(z)\n",
        "    elif self.option == \"BCE\":\n",
        "      self.bias = self.bias - self.rate * self.binary_cross_entropy_deriv(prediction, label)\n",
        "  \n",
        "  def squared_error_loss(self, prediction, label):\n",
        "    return 0.5 * (prediction - label) * (prediction - label)\n",
        "    \n",
        "  def squared_error_loss_deriv(self, prediction, label):\n",
        "    return prediction - label\n",
        "  \n",
        "  def squared_error_gradient(self, prediction, label, z, feature):\n",
        "    # return (prediction - label) * sigmoid_prime(z) * feature\n",
        "    return (prediction - label) * (prediction * (1-prediction)) * feature\n",
        "  \n",
        "  def binary_cross_entropy(self, prediction, label):\n",
        "    return -1 * label * math.log(prediction) - (1 - y) * math.log(1-a)\n",
        "  \n",
        "  def binary_cross_entropy_deriv(self, prediction, label):\n",
        "    return -1 * label * (1 - prediction) + (1 - label) * prediction\n",
        "    "
      ],
      "execution_count": 0,
      "outputs": []
    },
    {
      "metadata": {
        "id": "omcl0Flnu20F",
        "colab_type": "code",
        "outputId": "54a7ea22-e124-4c49-d59f-44566cbc3486",
        "colab": {
          "base_uri": "https://localhost:8080/",
          "height": 34
        }
      },
      "cell_type": "code",
      "source": [
        "new_layer = Layer(10, 1)\n",
        "#new_layer.test()\n",
        "new_layer.forward_prop()\n",
        "new_layer.test()"
      ],
      "execution_count": 34,
      "outputs": [
        {
          "output_type": "stream",
          "text": [
            "The classifiers managed to have an accurate guess rate of : 42.120000000000005\n"
          ],
          "name": "stdout"
        }
      ]
    },
    {
      "metadata": {
        "id": "APl5dQxgHJ_V",
        "colab_type": "code",
        "colab": {}
      },
      "cell_type": "code",
      "source": [
        " '''\n",
        " Comment / Removal section\n",
        "class Classifier():\n",
        "  def __init__(self, digit):\n",
        "    self.current_image = 0\n",
        "    self.train_images_personal = np.zeros((10000, 28*28))\n",
        "    self.train_labels_personal  = np.zeros((10000, 1))\n",
        "    for i in range(len(train_images)):\n",
        "      current_index = 0\n",
        "      if train_labels[i] == digit:\n",
        "        self.train_images_personal[current_index] = train_images[i]\n",
        "        self.train_labels_personal[current_index] = train_labels[i]\n",
        "\n",
        "  def get_and_increment(self):\n",
        "    self.current_image += 1\n",
        "    return self.train_images_personal[self.current_image-1], self.train_labels_personal[self.current_image-1] \n",
        "'''\n"
      ],
      "execution_count": 0,
      "outputs": []
    }
  ]
}