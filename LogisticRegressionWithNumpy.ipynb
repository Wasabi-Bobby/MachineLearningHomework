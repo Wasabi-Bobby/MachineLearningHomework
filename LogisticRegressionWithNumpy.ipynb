{
  "nbformat": 4,
  "nbformat_minor": 0,
  "metadata": {
    "colab": {
      "name": "LogisticRegressionWithNumpy.ipynb",
      "version": "0.3.2",
      "provenance": [],
      "include_colab_link": true
    },
    "kernelspec": {
      "name": "python3",
      "display_name": "Python 3"
    }
  },
  "cells": [
    {
      "cell_type": "markdown",
      "metadata": {
        "id": "view-in-github",
        "colab_type": "text"
      },
      "source": [
        "<a href=\"https://colab.research.google.com/github/Wasabi-Bobby/MachineLearningHomework/blob/master/LogisticRegressionWithNumpy.ipynb\" target=\"_parent\"><img src=\"https://colab.research.google.com/assets/colab-badge.svg\" alt=\"Open In Colab\"/></a>"
      ]
    },
    {
      "metadata": {
        "id": "nRcKubmnx-16",
        "colab_type": "code",
        "colab": {}
      },
      "cell_type": "code",
      "source": [
        "from keras.datasets import mnist\n",
        "\n",
        "(train_images_original, train_labels_original), (test_images_original, test_labels) = mnist.load_data()\n",
        "\n",
        "train_images = train_images_original.reshape((60000, 28 * 28))\n",
        "train_images = train_images.astype('float32') / 255\n",
        "\n",
        "train_labels = train_labels_original.reshape((60000, 1))\n",
        "\n",
        "test_images = test_images_original.reshape((10000, 28 * 28))\n",
        "test_images = test_images.astype('float32') / 255"
      ],
      "execution_count": 0,
      "outputs": []
    },
    {
      "metadata": {
        "id": "997xKU-wabVt",
        "colab_type": "code",
        "colab": {
          "base_uri": "https://localhost:8080/",
          "height": 51
        },
        "outputId": "58b18d45-922c-4ec3-e400-29c8f8a2617f"
      },
      "cell_type": "code",
      "source": [
        "class Classifier():\n",
        "  def __init__(self, digit):\n",
        "    self.current_image = 0\n",
        "   \n",
        "  def f(self):\n",
        "    print(\"Cool\")\n",
        "    print(self.current_image)\n",
        "\n",
        "a = Classifier(2)\n",
        "a.f()"
      ],
      "execution_count": 13,
      "outputs": [
        {
          "output_type": "stream",
          "text": [
            "Cool\n",
            "0\n"
          ],
          "name": "stdout"
        }
      ]
    },
    {
      "metadata": {
        "id": "9P24ftQD-DRZ",
        "colab_type": "code",
        "colab": {}
      },
      "cell_type": "code",
      "source": [
        "import numpy as np\n",
        "import math\n",
        "\n",
        "\n",
        "# Make 10 trainers\n",
        "# Each handle a digit from 0 - 9\n",
        "# Each will train on 9 digits\n",
        "# For testing we make all of them test on the number and argmax the highest option\n",
        "# If the highest option is 50 percent or below then it will say the the item isn't a number\n",
        "\n",
        "def sigmoid_double(x):\n",
        "    # Simple implementation of the sigmoid function for double values.\n",
        "    return 1.0 / (1.0 + np.exp(-x))\n",
        "\n",
        "\n",
        "def sigmoid_prime_double(x):\n",
        "    # Simple implementation of the derivative of of the sigmoid function for double values.\n",
        "    return sigmoid_double(x) * (1 - sigmoid_double(x))\n",
        "\n",
        "\n",
        "def sigmoid(z):\n",
        "    # Simple implementation of the sigmoid function for vectors.\n",
        "    return np.vectorize(sigmoid_double)(z)\n",
        "\n",
        "\n",
        "def sigmoid_prime(z):\n",
        "    # Simple implementation of the derivative of the sigmoid function for vectors.\n",
        "    return np.vectorize(sigmoid_prime_double)(z)\n",
        "  \n",
        "class Classifier():\n",
        "  def __init__(self, digit):\n",
        "    self.current_image = 0\n",
        "    self.train_images_personal = np.array([])\n",
        "    self.train_labels_personal  = np.array([])\n",
        "    for i in range(len(train_images)):\n",
        "      if train_labels[i] == digit:\n",
        "        np.append(self.train_images_personal, train_images[i])\n",
        "        np.append(self.train_labels_personal, train_labels[i])\n",
        "    \n",
        "  def get_and_increment(self):\n",
        "    self.current_image += 1\n",
        "    return self.train_images_personal[current_image-1], self.train_labels_personal[current_image-1] \n",
        "\n",
        "class Layer:\n",
        "  \n",
        "  def __init__(self, number_classifiers, output_dim):\n",
        "    self.number_classifiers = 10\n",
        "    self.output_dim = output_dim\n",
        "    self.loss_points = np.array([])\n",
        "    self.mini_batch_size = 1000\n",
        "    # Change this to either MSE or BCE\n",
        "    self.option = \"MSE\"\n",
        "    # Rate of learning\n",
        "    self.rate = 0.1\n",
        "    \n",
        "    self.classifiers = []\n",
        "    \n",
        "    for i in range(number_classifiers):\n",
        "      self.classifiers.append(Classifier(i))\n",
        "\n",
        "    # Added a division of sqrt(input) for initializaing weights\n",
        "    # This is known as the Xavier Initialization and has less variance\n",
        "    self.weight = np.random.randn(output_dim, number_classifiers) * 1/math.sqrt(number_classifiers)\n",
        "    self.bias = np.random.randn(output_dim, 1)\n",
        "    \n",
        "  def test(self):\n",
        "    correct_tally   = 0\n",
        "    current_training_weight = np.zeros(10)\n",
        "    for i in range(len(test_labels)):\n",
        "      a_matrix = np.array([])\n",
        "      current_feature = test_images_original[i]\n",
        "      for j in range(number_classifiers):\n",
        "        current_training_weight.fill(0)\n",
        "        current_weight = self.weight[0][j]\n",
        "        current_training_weight[j] = current_weight\n",
        "        z = current_training_weight.transpose() * current_feature + self.bias\n",
        "        a_matrix.append(sigmoid(z))\n",
        "      maximum_arg = a_matrix.argmax()\n",
        "      if maximum_arg == test_labels[i]:\n",
        "        correct_tally += 1\n",
        "    print(\"The classifiers managed to have an accurate guess rate of : \" + str(len(test_labels) / correct_tally))\n",
        "      \n",
        "\n",
        "  def forward_prop(self):\n",
        "    # This is for what classifier should be training with the data atm\n",
        "    # So we will give 100 examples to each classifier for later use\n",
        "    # This will be a matrix of [10, 1]\n",
        "    current_training_weight = np.zeros(10)\n",
        "    for i in range(self.mini_batch_size):\n",
        "      current_index = i % 10\n",
        "      current_training_weight.fill(0)\n",
        "      current_weight = self.weight[0][current_index]\n",
        "      current_training_weight[current_index] = current_weight\n",
        "      current_feature, current_label = self.classifiers[current_index].get_and_increment()\n",
        "      z = current_training_weight.transpose() * current_feature + self.bias\n",
        "      a = sigmoid(z)\n",
        "      backward_prop(current_index, a, current_label, z, current_feature)\n",
        "      \n",
        "  def backward_prop(self, current_training_classifier, prediction, label, z, feature):\n",
        "    update_weights(current_training_classifier, prediction, label, z, feature)\n",
        "    # update_bias()\n",
        "    \n",
        "  \n",
        "  def update_weights(self, current_training_classifier, prediction, label, z, feature):\n",
        "    # Have to make this change all weights, so either for loop or make squared error give a matrix to transpose\n",
        "    # Note: Even though I'm passing label, thinking about it logically this should always be one\n",
        "    # This is because any time I am testing a number on a classifier it should be equal to that number that I am passing\n",
        "    # Therefore, it should always be one for this scenario and we are merely training it to see if it can accurately detect that the number is for that classifier or not\n",
        "    # Also, 1 means that it is that number while 0 means it isn't since sigmoid gives a value from 0-1 with how we calculate it\n",
        "    if option == \"MSE\":\n",
        "      self.weight[current_training_classifier] - rate * squared_error_gradient(prediction, 1, z, feature)\n",
        "    elif option == \"BCE\":\n",
        "      self.weight[current_training_classifier] - rate * binary_cross_entropy_deriv(prediction, 1)\n",
        "   \n",
        "  def update_bias(self):\n",
        "    if option == \"MSE\":\n",
        "      self.bias - rate * squared_error_gradient(prediction, label, z, feature)\n",
        "    elif option == \"BCE\":\n",
        "      self.bias - rate * binary_cross_entropy_deriv(prediction, label)\n",
        "  \n",
        "  def squared_error_loss(self, prediction, label):\n",
        "    return 0.5 * (prediction - label) * (prediction - label)\n",
        "    \n",
        "  def squared_error_loss_deriv(self, prediction, label):\n",
        "    return prediction - label\n",
        "  \n",
        "  def squared_error_gradient(self, prediction, label, z, feature):\n",
        "    return (prediction - label) * sigmoid_prime(z) * feature\n",
        "  \n",
        "  def binary_cross_entropy(self, prediction, label):\n",
        "    return -1 * label * math.log(prediction) - (1 - y) * math.log(1-a)\n",
        "  \n",
        "  def binary_cross_entropy_deriv(self, prediction, label):\n",
        "    return -1 * label * (1 - prediction) + (1 - label) * prediction\n",
        "    "
      ],
      "execution_count": 0,
      "outputs": []
    },
    {
      "metadata": {
        "id": "omcl0Flnu20F",
        "colab_type": "code",
        "colab": {
          "base_uri": "https://localhost:8080/",
          "height": 435
        },
        "outputId": "8047a4e1-a08f-45ad-99f8-e0205e242700"
      },
      "cell_type": "code",
      "source": [
        "new_layer = Layer(10, 1)\n",
        "new_layer.forward_prop()\n",
        "new_layer.test()"
      ],
      "execution_count": 49,
      "outputs": [
        {
          "output_type": "error",
          "ename": "NameError",
          "evalue": "ignored",
          "traceback": [
            "\u001b[0;31m---------------------------------------------------------------------------\u001b[0m",
            "\u001b[0;31mNameError\u001b[0m                                 Traceback (most recent call last)",
            "\u001b[0;32m<ipython-input-49-261485d489dc>\u001b[0m in \u001b[0;36m<module>\u001b[0;34m()\u001b[0m\n\u001b[1;32m      1\u001b[0m \u001b[0mnew_layer\u001b[0m \u001b[0;34m=\u001b[0m \u001b[0mLayer\u001b[0m\u001b[0;34m(\u001b[0m\u001b[0;36m10\u001b[0m\u001b[0;34m,\u001b[0m \u001b[0;36m1\u001b[0m\u001b[0;34m)\u001b[0m\u001b[0;34m\u001b[0m\u001b[0;34m\u001b[0m\u001b[0m\n\u001b[0;32m----> 2\u001b[0;31m \u001b[0mnew_layer\u001b[0m\u001b[0;34m.\u001b[0m\u001b[0mforward_prop\u001b[0m\u001b[0;34m(\u001b[0m\u001b[0;34m)\u001b[0m\u001b[0;34m\u001b[0m\u001b[0;34m\u001b[0m\u001b[0m\n\u001b[0m\u001b[1;32m      3\u001b[0m \u001b[0mnew_layer\u001b[0m\u001b[0;34m.\u001b[0m\u001b[0mtest\u001b[0m\u001b[0;34m(\u001b[0m\u001b[0;34m)\u001b[0m\u001b[0;34m\u001b[0m\u001b[0;34m\u001b[0m\u001b[0m\n",
            "\u001b[0;32m<ipython-input-48-4f289e55469d>\u001b[0m in \u001b[0;36mforward_prop\u001b[0;34m(self)\u001b[0m\n\u001b[1;32m     92\u001b[0m       \u001b[0mcurrent_weight\u001b[0m \u001b[0;34m=\u001b[0m \u001b[0mself\u001b[0m\u001b[0;34m.\u001b[0m\u001b[0mweight\u001b[0m\u001b[0;34m[\u001b[0m\u001b[0;36m0\u001b[0m\u001b[0;34m]\u001b[0m\u001b[0;34m[\u001b[0m\u001b[0mcurrent_index\u001b[0m\u001b[0;34m]\u001b[0m\u001b[0;34m\u001b[0m\u001b[0;34m\u001b[0m\u001b[0m\n\u001b[1;32m     93\u001b[0m       \u001b[0mcurrent_training_weight\u001b[0m\u001b[0;34m[\u001b[0m\u001b[0mcurrent_index\u001b[0m\u001b[0;34m]\u001b[0m \u001b[0;34m=\u001b[0m \u001b[0mcurrent_weight\u001b[0m\u001b[0;34m\u001b[0m\u001b[0;34m\u001b[0m\u001b[0m\n\u001b[0;32m---> 94\u001b[0;31m       \u001b[0mcurrent_feature\u001b[0m\u001b[0;34m,\u001b[0m \u001b[0mcurrent_label\u001b[0m \u001b[0;34m=\u001b[0m \u001b[0mself\u001b[0m\u001b[0;34m.\u001b[0m\u001b[0mclassifiers\u001b[0m\u001b[0;34m[\u001b[0m\u001b[0mcurrent_index\u001b[0m\u001b[0;34m]\u001b[0m\u001b[0;34m.\u001b[0m\u001b[0mget_and_increment\u001b[0m\u001b[0;34m(\u001b[0m\u001b[0;34m)\u001b[0m\u001b[0;34m\u001b[0m\u001b[0;34m\u001b[0m\u001b[0m\n\u001b[0m\u001b[1;32m     95\u001b[0m       \u001b[0mz\u001b[0m \u001b[0;34m=\u001b[0m \u001b[0mcurrent_training_weight\u001b[0m\u001b[0;34m.\u001b[0m\u001b[0mtranspose\u001b[0m\u001b[0;34m(\u001b[0m\u001b[0;34m)\u001b[0m \u001b[0;34m*\u001b[0m \u001b[0mcurrent_feature\u001b[0m \u001b[0;34m+\u001b[0m \u001b[0mself\u001b[0m\u001b[0;34m.\u001b[0m\u001b[0mbias\u001b[0m\u001b[0;34m\u001b[0m\u001b[0;34m\u001b[0m\u001b[0m\n\u001b[1;32m     96\u001b[0m       \u001b[0ma\u001b[0m \u001b[0;34m=\u001b[0m \u001b[0msigmoid\u001b[0m\u001b[0;34m(\u001b[0m\u001b[0mz\u001b[0m\u001b[0;34m)\u001b[0m\u001b[0;34m\u001b[0m\u001b[0;34m\u001b[0m\u001b[0m\n",
            "\u001b[0;32m<ipython-input-48-4f289e55469d>\u001b[0m in \u001b[0;36mget_and_increment\u001b[0;34m(self)\u001b[0m\n\u001b[1;32m     40\u001b[0m   \u001b[0;32mdef\u001b[0m \u001b[0mget_and_increment\u001b[0m\u001b[0;34m(\u001b[0m\u001b[0mself\u001b[0m\u001b[0;34m)\u001b[0m\u001b[0;34m:\u001b[0m\u001b[0;34m\u001b[0m\u001b[0;34m\u001b[0m\u001b[0m\n\u001b[1;32m     41\u001b[0m     \u001b[0mself\u001b[0m\u001b[0;34m.\u001b[0m\u001b[0mcurrent_image\u001b[0m \u001b[0;34m+=\u001b[0m \u001b[0;36m1\u001b[0m\u001b[0;34m\u001b[0m\u001b[0;34m\u001b[0m\u001b[0m\n\u001b[0;32m---> 42\u001b[0;31m     \u001b[0;32mreturn\u001b[0m \u001b[0mself\u001b[0m\u001b[0;34m.\u001b[0m\u001b[0mtrain_images_personal\u001b[0m\u001b[0;34m[\u001b[0m\u001b[0mcurrent_image\u001b[0m\u001b[0;34m-\u001b[0m\u001b[0;36m1\u001b[0m\u001b[0;34m]\u001b[0m\u001b[0;34m,\u001b[0m \u001b[0mself\u001b[0m\u001b[0;34m.\u001b[0m\u001b[0mtrain_labels_personal\u001b[0m\u001b[0;34m[\u001b[0m\u001b[0mcurrent_image\u001b[0m\u001b[0;34m-\u001b[0m\u001b[0;36m1\u001b[0m\u001b[0;34m]\u001b[0m\u001b[0;34m\u001b[0m\u001b[0;34m\u001b[0m\u001b[0m\n\u001b[0m\u001b[1;32m     43\u001b[0m \u001b[0;34m\u001b[0m\u001b[0m\n\u001b[1;32m     44\u001b[0m \u001b[0;32mclass\u001b[0m \u001b[0mLayer\u001b[0m\u001b[0;34m:\u001b[0m\u001b[0;34m\u001b[0m\u001b[0;34m\u001b[0m\u001b[0m\n",
            "\u001b[0;31mNameError\u001b[0m: name 'current_image' is not defined"
          ]
        }
      ]
    }
  ]
}