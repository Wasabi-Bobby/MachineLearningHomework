{
  "nbformat": 4,
  "nbformat_minor": 0,
  "metadata": {
    "colab": {
      "name": "HW2 Machine Learning bb.ipynb",
      "version": "0.3.2",
      "provenance": [],
      "collapsed_sections": [
        "tZB6VOq2zitf",
        "-lTY6U_NA_N6",
        "EZ8_TJGIDmza",
        "kIOTUVsr2g2T",
        "UjuNpmkW3b66"
      ],
      "include_colab_link": true
    },
    "kernelspec": {
      "name": "python3",
      "display_name": "Python 3"
    }
  },
  "cells": [
    {
      "cell_type": "markdown",
      "metadata": {
        "id": "view-in-github",
        "colab_type": "text"
      },
      "source": [
        "<a href=\"https://colab.research.google.com/github/Wasabi-Bobby/MachineLearningHomework/blob/master/HW2_Machine_Learning_bb.ipynb\" target=\"_parent\"><img src=\"https://colab.research.google.com/assets/colab-badge.svg\" alt=\"Open In Colab\"/></a>"
      ]
    },
    {
      "metadata": {
        "id": "lVUScIxVfIBY",
        "colab_type": "code",
        "outputId": "fc30924a-b043-4d1c-a5d0-c0039145e8a4",
        "colab": {
          "base_uri": "https://localhost:8080/",
          "height": 74
        }
      },
      "cell_type": "code",
      "source": [
        "from keras.datasets import cifar10\n",
        "\n",
        "(train_images_original, train_labels_original), (test_images_original, test_labels_original) = cifar10.load_data()"
      ],
      "execution_count": 11,
      "outputs": [
        {
          "output_type": "stream",
          "text": [
            "Downloading data from https://www.cs.toronto.edu/~kriz/cifar-10-python.tar.gz\n",
            "170500096/170498071 [==============================] - 15s 0us/step\n"
          ],
          "name": "stdout"
        }
      ]
    },
    {
      "metadata": {
        "id": "dJE3NKMcxD96",
        "colab_type": "text"
      },
      "cell_type": "markdown",
      "source": [
        "Preparing image and labels\n",
        "-------------\n",
        "\n"
      ]
    },
    {
      "metadata": {
        "id": "oxuHgrrRxxp_",
        "colab_type": "code",
        "outputId": "6ebf6ec9-b1a2-49d8-ffab-da68323c051f",
        "colab": {
          "base_uri": "https://localhost:8080/",
          "height": 35
        }
      },
      "cell_type": "code",
      "source": [
        "train_images_original.shape"
      ],
      "execution_count": 0,
      "outputs": [
        {
          "output_type": "execute_result",
          "data": {
            "text/plain": [
              "(50000, 32, 32, 3)"
            ]
          },
          "metadata": {
            "tags": []
          },
          "execution_count": 5
        }
      ]
    },
    {
      "metadata": {
        "id": "smLtkeDax0Cw",
        "colab_type": "code",
        "outputId": "e026c66d-08ae-4fa7-a697-89c9e0fa1f34",
        "colab": {
          "base_uri": "https://localhost:8080/",
          "height": 35
        }
      },
      "cell_type": "code",
      "source": [
        "test_images_original.shape"
      ],
      "execution_count": 0,
      "outputs": [
        {
          "output_type": "execute_result",
          "data": {
            "text/plain": [
              "(10000, 32, 32, 3)"
            ]
          },
          "metadata": {
            "tags": []
          },
          "execution_count": 6
        }
      ]
    },
    {
      "metadata": {
        "id": "-VQeFmzdxFnb",
        "colab_type": "code",
        "colab": {}
      },
      "cell_type": "code",
      "source": [
        "train_images = train_images_original.reshape((50000, 32, 32, 3))\n",
        "train_images = train_images.astype('float32') / 255\n",
        "\n",
        "test_images = test_images_original.reshape((10000, 32, 32, 3))\n",
        "test_images = test_images.astype('float32') / 255"
      ],
      "execution_count": 0,
      "outputs": []
    },
    {
      "metadata": {
        "id": "dfvzqV1kyCPc",
        "colab_type": "code",
        "colab": {}
      },
      "cell_type": "code",
      "source": [
        "from keras.utils import to_categorical\n",
        "\n",
        "train_labels = to_categorical(train_labels_original)\n",
        "test_labels = to_categorical(test_labels_original)"
      ],
      "execution_count": 0,
      "outputs": []
    },
    {
      "metadata": {
        "id": "LZpH3CBWvd2O",
        "colab_type": "text"
      },
      "cell_type": "markdown",
      "source": [
        "Some nice code snippet i found for shuffling two arrays on github. Link -> https://stackoverflow.com/questions/4601373/better-way-to-shuffle-two-numpy-arrays-in-unison"
      ]
    },
    {
      "metadata": {
        "id": "9ujASf_Jvmhm",
        "colab_type": "code",
        "colab": {}
      },
      "cell_type": "code",
      "source": [
        "import numpy as np\n",
        "def unison_shuffled_copies(a, b):\n",
        "    assert len(a) == len(b)\n",
        "    p = np.random.permutation(len(a))\n",
        "    return a[p], b[p]"
      ],
      "execution_count": 0,
      "outputs": []
    },
    {
      "metadata": {
        "id": "2szCyhA7v9uN",
        "colab_type": "text"
      },
      "cell_type": "markdown",
      "source": [
        "Testing this just in case\n",
        "----------------------------\n",
        "It works!"
      ]
    },
    {
      "metadata": {
        "id": "HetbbDSov_eu",
        "colab_type": "code",
        "outputId": "08062d84-e303-4a47-aaf8-c975c6f371d0",
        "colab": {
          "base_uri": "https://localhost:8080/",
          "height": 54
        }
      },
      "cell_type": "code",
      "source": [
        "x = np.array([1,2,3,4])\n",
        "y = np.array([1,2,3,4])\n",
        "random_x, random_y = unison_shuffled_copies(x, y)\n",
        "print(random_x)\n",
        "print(random_y)"
      ],
      "execution_count": 15,
      "outputs": [
        {
          "output_type": "stream",
          "text": [
            "[2 4 1 3]\n",
            "[2 4 1 3]\n"
          ],
          "name": "stdout"
        }
      ]
    },
    {
      "metadata": {
        "id": "7cXZQXMfuW6A",
        "colab_type": "text"
      },
      "cell_type": "markdown",
      "source": [
        "Shuffling step + Validation set\n",
        "--------------------\n",
        "Creating Validation and Test set from the data (Not k-fold iteration kind of validation)\n",
        "\n",
        "Actually going to ignore this valid set section for now since keras has a way to set the percentage of a validation set..."
      ]
    },
    {
      "metadata": {
        "id": "7FfFSwdauC1z",
        "colab_type": "code",
        "colab": {}
      },
      "cell_type": "code",
      "source": [
        "#Shuffling array\n",
        "random_train_images, random_train_labels = unison_shuffled_copies(train_images, train_labels)\n",
        "#valid_set = [(random_train_images"
      ],
      "execution_count": 0,
      "outputs": []
    },
    {
      "metadata": {
        "id": "WAiAPBzQ4VKv",
        "colab_type": "text"
      },
      "cell_type": "markdown",
      "source": [
        "Creating K-fold training data set, labels and images\n",
        "-----------------------------------------------------------------"
      ]
    },
    {
      "metadata": {
        "id": "IrHUqGOZ4UL_",
        "colab_type": "code",
        "colab": {}
      },
      "cell_type": "code",
      "source": [
        "import random\n",
        "# Greatest index we can start at is length of the array - 10 percent of length of array\n",
        "# 10% of our current data will be used for k-fold\n",
        "greatest_index = len(random_train_images) - len(random_train_images) * .1\n",
        "starting_index = random.randint(0, greatest_index)\n",
        "last_index = int(len(random_train_images) * 0.1) + starting_index\n",
        "\n",
        "k_fold_train_images = random_train_images[starting_index:last_index]\n",
        "k_fold_train_labels = random_train_labels[starting_index:last_index]\n"
      ],
      "execution_count": 0,
      "outputs": []
    },
    {
      "metadata": {
        "id": "tZB6VOq2zitf",
        "colab_type": "text"
      },
      "cell_type": "markdown",
      "source": [
        "Network Architecture 1\n",
        "----------------------------\n",
        "Just going to have about 4 convolutional layers and do four max pools\n",
        "\n",
        "Basic architecture"
      ]
    },
    {
      "metadata": {
        "id": "Z2vVDZNgziYZ",
        "colab_type": "code",
        "outputId": "290696f2-a9aa-415a-f9ec-1da2e93680fd",
        "colab": {
          "base_uri": "https://localhost:8080/",
          "height": 455
        }
      },
      "cell_type": "code",
      "source": [
        "from keras import models\n",
        "from keras import layers\n",
        "\n",
        "model_one = models.Sequential()\n",
        "model_one.add(layers.Conv2D(32, (3, 3), activation='relu', input_shape=(32, 32, 3), data_format=\"channels_last\"))\n",
        "#model_one.add(layers.MaxPooling2D((2, 2)))\n",
        "model_one.add(layers.Conv2D(64, (3, 3), activation='relu'))\n",
        "#model_one.add(layers.MaxPooling2D(2, 2))\n",
        "model_one.add(layers.Conv2D(64, (3, 3), activation='relu'))\n",
        "model_one.add(layers.Flatten())\n",
        "model_one.add(layers.Dense(64, activation='relu'))\n",
        "model_one.add(layers.Dense(10, activation='softmax'))\n",
        "model_one.summary()"
      ],
      "execution_count": 2,
      "outputs": [
        {
          "output_type": "stream",
          "text": [
            "Using TensorFlow backend.\n"
          ],
          "name": "stderr"
        },
        {
          "output_type": "stream",
          "text": [
            "WARNING:tensorflow:From /usr/local/lib/python3.6/dist-packages/tensorflow/python/framework/op_def_library.py:263: colocate_with (from tensorflow.python.framework.ops) is deprecated and will be removed in a future version.\n",
            "Instructions for updating:\n",
            "Colocations handled automatically by placer.\n",
            "_________________________________________________________________\n",
            "Layer (type)                 Output Shape              Param #   \n",
            "=================================================================\n",
            "conv2d_1 (Conv2D)            (None, 30, 30, 32)        896       \n",
            "_________________________________________________________________\n",
            "conv2d_2 (Conv2D)            (None, 28, 28, 64)        18496     \n",
            "_________________________________________________________________\n",
            "conv2d_3 (Conv2D)            (None, 26, 26, 64)        36928     \n",
            "_________________________________________________________________\n",
            "flatten_1 (Flatten)          (None, 43264)             0         \n",
            "_________________________________________________________________\n",
            "dense_1 (Dense)              (None, 64)                2768960   \n",
            "_________________________________________________________________\n",
            "dense_2 (Dense)              (None, 10)                650       \n",
            "=================================================================\n",
            "Total params: 2,825,930\n",
            "Trainable params: 2,825,930\n",
            "Non-trainable params: 0\n",
            "_________________________________________________________________\n"
          ],
          "name": "stdout"
        }
      ]
    },
    {
      "metadata": {
        "id": "-lTY6U_NA_N6",
        "colab_type": "text"
      },
      "cell_type": "markdown",
      "source": [
        "Network Architecture 2\n",
        "---------------------------\n",
        "Now with maxpooling!"
      ]
    },
    {
      "metadata": {
        "id": "0FTduNm3A-kJ",
        "colab_type": "code",
        "outputId": "cc70517e-f5eb-4282-d5ed-bfa7a05955a0",
        "colab": {
          "base_uri": "https://localhost:8080/",
          "height": 472
        }
      },
      "cell_type": "code",
      "source": [
        "model_two = models.Sequential()\n",
        "model_two.add(layers.Conv2D(16, (3, 3), activation='relu', input_shape=(32, 32, 3), data_format=\"channels_last\"))\n",
        "model_two.add(layers.MaxPooling2D((2, 2)))\n",
        "model_two.add(layers.Conv2D(32, (3, 3), activation='relu'))\n",
        "model_two.add(layers.MaxPooling2D(2, 2))\n",
        "model_two.add(layers.Conv2D(32, (3, 3), activation='relu'))\n",
        "model_two.add(layers.MaxPooling2D(2, 2))\n",
        "model_two.add(layers.Flatten())\n",
        "model_two.add(layers.Dense(64, activation='relu'))\n",
        "model_two.add(layers.Dense(10, activation='softmax'))\n",
        "model_two.summary()"
      ],
      "execution_count": 3,
      "outputs": [
        {
          "output_type": "stream",
          "text": [
            "_________________________________________________________________\n",
            "Layer (type)                 Output Shape              Param #   \n",
            "=================================================================\n",
            "conv2d_4 (Conv2D)            (None, 30, 30, 16)        448       \n",
            "_________________________________________________________________\n",
            "max_pooling2d_1 (MaxPooling2 (None, 15, 15, 16)        0         \n",
            "_________________________________________________________________\n",
            "conv2d_5 (Conv2D)            (None, 13, 13, 32)        4640      \n",
            "_________________________________________________________________\n",
            "max_pooling2d_2 (MaxPooling2 (None, 6, 6, 32)          0         \n",
            "_________________________________________________________________\n",
            "conv2d_6 (Conv2D)            (None, 4, 4, 32)          9248      \n",
            "_________________________________________________________________\n",
            "max_pooling2d_3 (MaxPooling2 (None, 2, 2, 32)          0         \n",
            "_________________________________________________________________\n",
            "flatten_2 (Flatten)          (None, 128)               0         \n",
            "_________________________________________________________________\n",
            "dense_3 (Dense)              (None, 64)                8256      \n",
            "_________________________________________________________________\n",
            "dense_4 (Dense)              (None, 10)                650       \n",
            "=================================================================\n",
            "Total params: 23,242\n",
            "Trainable params: 23,242\n",
            "Non-trainable params: 0\n",
            "_________________________________________________________________\n"
          ],
          "name": "stdout"
        }
      ]
    },
    {
      "metadata": {
        "id": "EZ8_TJGIDmza",
        "colab_type": "text"
      },
      "cell_type": "markdown",
      "source": [
        "Network Architecture 3, 4, 5, 6\n",
        "-----------------------------\n",
        "Just kinda messing around with different layers and pooling and the epochs should be 5 for each"
      ]
    },
    {
      "metadata": {
        "id": "ifpfgpjNEGJc",
        "colab_type": "code",
        "outputId": "718fbd31-9976-471a-f7ac-f768de914212",
        "colab": {
          "base_uri": "https://localhost:8080/",
          "height": 472
        }
      },
      "cell_type": "code",
      "source": [
        "model_three = models.Sequential()\n",
        "#massive filter for the first layer\n",
        "model_three.add(layers.Conv2D(64, (9, 9), activation='relu', input_shape=(32, 32, 3), data_format=\"channels_last\"))\n",
        "model_three.add(layers.MaxPooling2D((2, 2)))\n",
        "model_three.add(layers.Conv2D(32, (3, 3), activation='relu'))\n",
        "model_three.add(layers.MaxPooling2D(2, 2))\n",
        "model_three.add(layers.Conv2D(32, (3, 3), activation='relu'))\n",
        "model_three.add(layers.MaxPooling2D(2, 2))\n",
        "model_three.add(layers.Flatten())\n",
        "model_three.add(layers.Dense(64, activation='relu'))\n",
        "model_three.add(layers.Dense(10, activation='softmax'))\n",
        "model_three.summary()"
      ],
      "execution_count": 4,
      "outputs": [
        {
          "output_type": "stream",
          "text": [
            "_________________________________________________________________\n",
            "Layer (type)                 Output Shape              Param #   \n",
            "=================================================================\n",
            "conv2d_7 (Conv2D)            (None, 24, 24, 64)        15616     \n",
            "_________________________________________________________________\n",
            "max_pooling2d_4 (MaxPooling2 (None, 12, 12, 64)        0         \n",
            "_________________________________________________________________\n",
            "conv2d_8 (Conv2D)            (None, 10, 10, 32)        18464     \n",
            "_________________________________________________________________\n",
            "max_pooling2d_5 (MaxPooling2 (None, 5, 5, 32)          0         \n",
            "_________________________________________________________________\n",
            "conv2d_9 (Conv2D)            (None, 3, 3, 32)          9248      \n",
            "_________________________________________________________________\n",
            "max_pooling2d_6 (MaxPooling2 (None, 1, 1, 32)          0         \n",
            "_________________________________________________________________\n",
            "flatten_3 (Flatten)          (None, 32)                0         \n",
            "_________________________________________________________________\n",
            "dense_5 (Dense)              (None, 64)                2112      \n",
            "_________________________________________________________________\n",
            "dense_6 (Dense)              (None, 10)                650       \n",
            "=================================================================\n",
            "Total params: 46,090\n",
            "Trainable params: 46,090\n",
            "Non-trainable params: 0\n",
            "_________________________________________________________________\n"
          ],
          "name": "stdout"
        }
      ]
    },
    {
      "metadata": {
        "id": "eQzK0r0ME9Q4",
        "colab_type": "code",
        "outputId": "556feac0-45db-47ab-d20e-bcab7d30aa43",
        "colab": {
          "base_uri": "https://localhost:8080/",
          "height": 472
        }
      },
      "cell_type": "code",
      "source": [
        "model_four = models.Sequential()\n",
        "model_four.add(layers.Conv2D(128, (9, 9), activation='relu', input_shape=(32, 32, 3), data_format=\"channels_last\"))\n",
        "model_four.add(layers.MaxPooling2D((2, 2)))\n",
        "model_four.add(layers.Conv2D(32, (3, 3), activation='relu'))\n",
        "model_four.add(layers.MaxPooling2D(2, 2))\n",
        "model_four.add(layers.Conv2D(32, (3, 3), activation='relu'))\n",
        "model_four.add(layers.MaxPooling2D(2, 2))\n",
        "model_four.add(layers.Flatten())\n",
        "model_four.add(layers.Dense(64, activation='relu'))\n",
        "model_four.add(layers.Dense(10, activation='softmax'))\n",
        "model_four.summary()"
      ],
      "execution_count": 0,
      "outputs": [
        {
          "output_type": "stream",
          "text": [
            "_________________________________________________________________\n",
            "Layer (type)                 Output Shape              Param #   \n",
            "=================================================================\n",
            "conv2d_10 (Conv2D)           (None, 24, 24, 128)       31232     \n",
            "_________________________________________________________________\n",
            "max_pooling2d_7 (MaxPooling2 (None, 12, 12, 128)       0         \n",
            "_________________________________________________________________\n",
            "conv2d_11 (Conv2D)           (None, 10, 10, 32)        36896     \n",
            "_________________________________________________________________\n",
            "max_pooling2d_8 (MaxPooling2 (None, 5, 5, 32)          0         \n",
            "_________________________________________________________________\n",
            "conv2d_12 (Conv2D)           (None, 3, 3, 32)          9248      \n",
            "_________________________________________________________________\n",
            "max_pooling2d_9 (MaxPooling2 (None, 1, 1, 32)          0         \n",
            "_________________________________________________________________\n",
            "flatten_4 (Flatten)          (None, 32)                0         \n",
            "_________________________________________________________________\n",
            "dense_7 (Dense)              (None, 64)                2112      \n",
            "_________________________________________________________________\n",
            "dense_8 (Dense)              (None, 10)                650       \n",
            "=================================================================\n",
            "Total params: 80,138\n",
            "Trainable params: 80,138\n",
            "Non-trainable params: 0\n",
            "_________________________________________________________________\n"
          ],
          "name": "stdout"
        }
      ]
    },
    {
      "metadata": {
        "id": "2XQXK0HhE721",
        "colab_type": "code",
        "outputId": "52819778-1231-46c8-dc52-a96bc38271b2",
        "colab": {
          "base_uri": "https://localhost:8080/",
          "height": 655
        }
      },
      "cell_type": "code",
      "source": [
        "# Hashtag dropout\n",
        "model_five = models.Sequential()\n",
        "model_five.add(layers.Conv2D(32, (3, 3), activation='relu', input_shape=(32, 32, 3), data_format=\"channels_last\"))\n",
        "model_five.add(layers.MaxPooling2D((2, 2)))\n",
        "model_five.add(layers.Dropout(0.25))\n",
        "model_five.add(layers.Conv2D(32, (3, 3), activation='relu'))\n",
        "model_five.add(layers.MaxPooling2D(2, 2))\n",
        "model_five.add(layers.Dropout(0.25))\n",
        "model_five.add(layers.Conv2D(32, (3, 3), activation='relu'))\n",
        "model_five.add(layers.MaxPooling2D(2, 2))\n",
        "model_five.add(layers.Dropout(0.25))\n",
        "model_five.add(layers.Flatten())\n",
        "model_five.add(layers.Dense(64, activation='relu'))\n",
        "model_five.add(layers.Dense(10, activation='softmax'))\n",
        "model_five.summary()"
      ],
      "execution_count": 0,
      "outputs": [
        {
          "output_type": "stream",
          "text": [
            "WARNING:tensorflow:From /usr/local/lib/python3.6/dist-packages/keras/backend/tensorflow_backend.py:3445: calling dropout (from tensorflow.python.ops.nn_ops) with keep_prob is deprecated and will be removed in a future version.\n",
            "Instructions for updating:\n",
            "Please use `rate` instead of `keep_prob`. Rate should be set to `rate = 1 - keep_prob`.\n",
            "_________________________________________________________________\n",
            "Layer (type)                 Output Shape              Param #   \n",
            "=================================================================\n",
            "conv2d_13 (Conv2D)           (None, 30, 30, 32)        896       \n",
            "_________________________________________________________________\n",
            "max_pooling2d_10 (MaxPooling (None, 15, 15, 32)        0         \n",
            "_________________________________________________________________\n",
            "dropout_1 (Dropout)          (None, 15, 15, 32)        0         \n",
            "_________________________________________________________________\n",
            "conv2d_14 (Conv2D)           (None, 13, 13, 32)        9248      \n",
            "_________________________________________________________________\n",
            "max_pooling2d_11 (MaxPooling (None, 6, 6, 32)          0         \n",
            "_________________________________________________________________\n",
            "dropout_2 (Dropout)          (None, 6, 6, 32)          0         \n",
            "_________________________________________________________________\n",
            "conv2d_15 (Conv2D)           (None, 4, 4, 32)          9248      \n",
            "_________________________________________________________________\n",
            "max_pooling2d_12 (MaxPooling (None, 2, 2, 32)          0         \n",
            "_________________________________________________________________\n",
            "dropout_3 (Dropout)          (None, 2, 2, 32)          0         \n",
            "_________________________________________________________________\n",
            "flatten_5 (Flatten)          (None, 128)               0         \n",
            "_________________________________________________________________\n",
            "dense_9 (Dense)              (None, 64)                8256      \n",
            "_________________________________________________________________\n",
            "dense_10 (Dense)             (None, 10)                650       \n",
            "=================================================================\n",
            "Total params: 28,298\n",
            "Trainable params: 28,298\n",
            "Non-trainable params: 0\n",
            "_________________________________________________________________\n"
          ],
          "name": "stdout"
        }
      ]
    },
    {
      "metadata": {
        "id": "kQgKjW91E6Cq",
        "colab_type": "code",
        "outputId": "fe3e32a3-0859-41bf-f64a-de729198709c",
        "colab": {
          "base_uri": "https://localhost:8080/",
          "height": 472
        }
      },
      "cell_type": "code",
      "source": [
        "model_six = models.Sequential()\n",
        "model_six.add(layers.Conv2D(16, (3, 3), activation='relu', input_shape=(32, 32, 3), data_format=\"channels_last\"))\n",
        "model_six.add(layers.MaxPooling2D((2, 2)))\n",
        "model_six.add(layers.Conv2D(32, (3, 3), activation='relu'))\n",
        "model_six.add(layers.MaxPooling2D(2, 2))\n",
        "model_six.add(layers.Conv2D(32, (3, 3), activation='relu'))\n",
        "model_six.add(layers.MaxPooling2D(2, 2))\n",
        "model_six.add(layers.Flatten())\n",
        "model_six.add(layers.Dense(64, activation='relu'))\n",
        "model_six.add(layers.Dense(10, activation='softmax'))\n",
        "model_six.summary()"
      ],
      "execution_count": 0,
      "outputs": [
        {
          "output_type": "stream",
          "text": [
            "_________________________________________________________________\n",
            "Layer (type)                 Output Shape              Param #   \n",
            "=================================================================\n",
            "conv2d_16 (Conv2D)           (None, 30, 30, 16)        448       \n",
            "_________________________________________________________________\n",
            "max_pooling2d_13 (MaxPooling (None, 15, 15, 16)        0         \n",
            "_________________________________________________________________\n",
            "conv2d_17 (Conv2D)           (None, 13, 13, 32)        4640      \n",
            "_________________________________________________________________\n",
            "max_pooling2d_14 (MaxPooling (None, 6, 6, 32)          0         \n",
            "_________________________________________________________________\n",
            "conv2d_18 (Conv2D)           (None, 4, 4, 32)          9248      \n",
            "_________________________________________________________________\n",
            "max_pooling2d_15 (MaxPooling (None, 2, 2, 32)          0         \n",
            "_________________________________________________________________\n",
            "flatten_6 (Flatten)          (None, 128)               0         \n",
            "_________________________________________________________________\n",
            "dense_11 (Dense)             (None, 64)                8256      \n",
            "_________________________________________________________________\n",
            "dense_12 (Dense)             (None, 10)                650       \n",
            "=================================================================\n",
            "Total params: 23,242\n",
            "Trainable params: 23,242\n",
            "Non-trainable params: 0\n",
            "_________________________________________________________________\n"
          ],
          "name": "stdout"
        }
      ]
    },
    {
      "metadata": {
        "id": "f5ub6nZCBu2B",
        "colab_type": "text"
      },
      "cell_type": "markdown",
      "source": [
        "K_model initialization\n",
        "------------------------------------"
      ]
    },
    {
      "metadata": {
        "id": "YGo7ZbPI3rrz",
        "colab_type": "code",
        "colab": {
          "base_uri": "https://localhost:8080/",
          "height": 363
        },
        "outputId": "50044fd2-da48-4dc2-e628-53bfd26fdd09"
      },
      "cell_type": "code",
      "source": [
        "k_model_one   = model_one\n",
        "k_model_one.summary()\n",
        "k_model_two   = model_two\n",
        "k_model_three = model_three"
      ],
      "execution_count": 50,
      "outputs": [
        {
          "output_type": "stream",
          "text": [
            "_________________________________________________________________\n",
            "Layer (type)                 Output Shape              Param #   \n",
            "=================================================================\n",
            "conv2d_1 (Conv2D)            (None, 30, 30, 32)        896       \n",
            "_________________________________________________________________\n",
            "conv2d_2 (Conv2D)            (None, 28, 28, 64)        18496     \n",
            "_________________________________________________________________\n",
            "conv2d_3 (Conv2D)            (None, 26, 26, 64)        36928     \n",
            "_________________________________________________________________\n",
            "flatten_1 (Flatten)          (None, 43264)             0         \n",
            "_________________________________________________________________\n",
            "dense_1 (Dense)              (None, 64)                2768960   \n",
            "_________________________________________________________________\n",
            "dense_2 (Dense)              (None, 10)                650       \n",
            "=================================================================\n",
            "Total params: 2,825,930\n",
            "Trainable params: 2,825,930\n",
            "Non-trainable params: 0\n",
            "_________________________________________________________________\n"
          ],
          "name": "stdout"
        }
      ]
    },
    {
      "metadata": {
        "id": "NR3b80nz2dxD",
        "colab_type": "text"
      },
      "cell_type": "markdown",
      "source": [
        "Compilation\n",
        "------------------------------"
      ]
    },
    {
      "metadata": {
        "id": "FU6ZLBz62Ynw",
        "colab_type": "code",
        "colab": {}
      },
      "cell_type": "code",
      "source": [
        "model_one.compile(optimizer='rmsprop', \n",
        "              loss='categorical_crossentropy', \n",
        "              metrics=['accuracy'])"
      ],
      "execution_count": 0,
      "outputs": []
    },
    {
      "metadata": {
        "id": "Brfh48njA21f",
        "colab_type": "code",
        "colab": {}
      },
      "cell_type": "code",
      "source": [
        "model_two.compile(optimizer='rmsprop', \n",
        "              loss='categorical_crossentropy', \n",
        "              metrics=['accuracy'])"
      ],
      "execution_count": 0,
      "outputs": []
    },
    {
      "metadata": {
        "id": "ozMC0u3eHEvg",
        "colab_type": "code",
        "colab": {}
      },
      "cell_type": "code",
      "source": [
        "model_three.compile(optimizer='rmsprop', \n",
        "              loss='categorical_crossentropy', \n",
        "              metrics=['accuracy'])"
      ],
      "execution_count": 0,
      "outputs": []
    },
    {
      "metadata": {
        "id": "GA8YSlWdJrBZ",
        "colab_type": "code",
        "colab": {}
      },
      "cell_type": "code",
      "source": [
        "model_four.compile(optimizer='rmsprop', \n",
        "              loss='categorical_crossentropy', \n",
        "              metrics=['accuracy'])"
      ],
      "execution_count": 0,
      "outputs": []
    },
    {
      "metadata": {
        "id": "z4_sRSHeJrqC",
        "colab_type": "code",
        "colab": {}
      },
      "cell_type": "code",
      "source": [
        "model_five.compile(optimizer='rmsprop', \n",
        "              loss='categorical_crossentropy', \n",
        "              metrics=['accuracy'])"
      ],
      "execution_count": 0,
      "outputs": []
    },
    {
      "metadata": {
        "id": "xkgTfGkdJr4j",
        "colab_type": "code",
        "colab": {}
      },
      "cell_type": "code",
      "source": [
        "model_six.compile(optimizer='rmsprop', \n",
        "              loss='categorical_crossentropy', \n",
        "              metrics=['accuracy'])"
      ],
      "execution_count": 0,
      "outputs": []
    },
    {
      "metadata": {
        "id": "Jw8S5C-s3x87",
        "colab_type": "code",
        "colab": {}
      },
      "cell_type": "code",
      "source": [
        "k_model_one.compile(optimizer='rmsprop', \n",
        "              loss='categorical_crossentropy', \n",
        "              metrics=['accuracy'])\n",
        "k_model_two.compile(optimizer='rmsprop', \n",
        "              loss='categorical_crossentropy', \n",
        "              metrics=['accuracy'])\n",
        "k_model_three.compile(optimizer='rmsprop', \n",
        "              loss='categorical_crossentropy', \n",
        "              metrics=['accuracy'])"
      ],
      "execution_count": 0,
      "outputs": []
    },
    {
      "metadata": {
        "id": "kIOTUVsr2g2T",
        "colab_type": "text"
      },
      "cell_type": "markdown",
      "source": [
        "Training without k-fold\n",
        "----------------------------"
      ]
    },
    {
      "metadata": {
        "id": "BVlFaKpE2gvW",
        "colab_type": "code",
        "outputId": "14cc71eb-a12b-44f5-a43e-be7b34255e76",
        "colab": {
          "base_uri": "https://localhost:8080/",
          "height": 272
        }
      },
      "cell_type": "code",
      "source": [
        "epochs = 5\n",
        "history_one = model_one.fit(train_images,\n",
        "                           train_labels,\n",
        "                           epochs=epochs,\n",
        "                           validation_split=0.2,\n",
        "                           batch_size=128)"
      ],
      "execution_count": 0,
      "outputs": [
        {
          "output_type": "stream",
          "text": [
            "WARNING:tensorflow:From /usr/local/lib/python3.6/dist-packages/tensorflow/python/ops/math_ops.py:3066: to_int32 (from tensorflow.python.ops.math_ops) is deprecated and will be removed in a future version.\n",
            "Instructions for updating:\n",
            "Use tf.cast instead.\n",
            "Train on 40000 samples, validate on 10000 samples\n",
            "Epoch 1/5\n",
            "40000/40000 [==============================] - 348s 9ms/step - loss: 1.6956 - acc: 0.3996 - val_loss: 1.6755 - val_acc: 0.4130\n",
            "Epoch 2/5\n",
            "40000/40000 [==============================] - 346s 9ms/step - loss: 1.2196 - acc: 0.5731 - val_loss: 1.0978 - val_acc: 0.6149\n",
            "Epoch 3/5\n",
            "40000/40000 [==============================] - 348s 9ms/step - loss: 0.9807 - acc: 0.6598 - val_loss: 1.0709 - val_acc: 0.6199\n",
            "Epoch 4/5\n",
            "40000/40000 [==============================] - 350s 9ms/step - loss: 0.7869 - acc: 0.7278 - val_loss: 1.0587 - val_acc: 0.6375\n",
            "Epoch 5/5\n",
            "40000/40000 [==============================] - 351s 9ms/step - loss: 0.6069 - acc: 0.7898 - val_loss: 1.0890 - val_acc: 0.6462\n"
          ],
          "name": "stdout"
        }
      ]
    },
    {
      "metadata": {
        "id": "1nHHw6hyBp8i",
        "colab_type": "code",
        "outputId": "ade452b5-841c-4dc9-c4d8-49be27e80b74",
        "colab": {
          "base_uri": "https://localhost:8080/",
          "height": 399
        }
      },
      "cell_type": "code",
      "source": [
        "epochs = 10\n",
        "history_two = model_two.fit(train_images,\n",
        "                           train_labels,\n",
        "                           epochs=epochs,\n",
        "                           validation_split=0.2,\n",
        "                           batch_size=128)"
      ],
      "execution_count": 0,
      "outputs": [
        {
          "output_type": "stream",
          "text": [
            "Train on 40000 samples, validate on 10000 samples\n",
            "Epoch 1/10\n",
            "40000/40000 [==============================] - 42s 1ms/step - loss: 1.9275 - acc: 0.2923 - val_loss: 1.9372 - val_acc: 0.3188\n",
            "Epoch 2/10\n",
            "40000/40000 [==============================] - 42s 1ms/step - loss: 1.6369 - acc: 0.4078 - val_loss: 1.6014 - val_acc: 0.4073\n",
            "Epoch 3/10\n",
            "40000/40000 [==============================] - 42s 1ms/step - loss: 1.5116 - acc: 0.4544 - val_loss: 1.4717 - val_acc: 0.4636\n",
            "Epoch 4/10\n",
            "40000/40000 [==============================] - 42s 1ms/step - loss: 1.4149 - acc: 0.4936 - val_loss: 1.5488 - val_acc: 0.4568\n",
            "Epoch 5/10\n",
            "40000/40000 [==============================] - 42s 1ms/step - loss: 1.3382 - acc: 0.5219 - val_loss: 1.3031 - val_acc: 0.5372\n",
            "Epoch 6/10\n",
            "40000/40000 [==============================] - 42s 1ms/step - loss: 1.2758 - acc: 0.5480 - val_loss: 1.2674 - val_acc: 0.5518\n",
            "Epoch 7/10\n",
            "40000/40000 [==============================] - 42s 1ms/step - loss: 1.2242 - acc: 0.5670 - val_loss: 1.2219 - val_acc: 0.5732\n",
            "Epoch 8/10\n",
            "40000/40000 [==============================] - 42s 1ms/step - loss: 1.1818 - acc: 0.5807 - val_loss: 1.1863 - val_acc: 0.5774\n",
            "Epoch 9/10\n",
            "40000/40000 [==============================] - 42s 1ms/step - loss: 1.1428 - acc: 0.5947 - val_loss: 1.2506 - val_acc: 0.5528\n",
            "Epoch 10/10\n",
            "40000/40000 [==============================] - 42s 1ms/step - loss: 1.1152 - acc: 0.6085 - val_loss: 1.1615 - val_acc: 0.5855\n"
          ],
          "name": "stdout"
        }
      ]
    },
    {
      "metadata": {
        "id": "_SBeq5yEC4-s",
        "colab_type": "code",
        "outputId": "08373bbd-7137-48a0-faa5-73ec279ee886",
        "colab": {
          "base_uri": "https://localhost:8080/",
          "height": 763
        }
      },
      "cell_type": "code",
      "source": [
        "epochs_three = 20\n",
        "history_three = model_two.fit(train_images,\n",
        "                           train_labels,\n",
        "                           epochs=epochs_three,\n",
        "                           validation_split=0.2,\n",
        "                           batch_size=128)"
      ],
      "execution_count": 0,
      "outputs": [
        {
          "output_type": "stream",
          "text": [
            "Train on 40000 samples, validate on 10000 samples\n",
            "Epoch 1/20\n",
            "40000/40000 [==============================] - 42s 1ms/step - loss: 1.0806 - acc: 0.6195 - val_loss: 1.1498 - val_acc: 0.5953\n",
            "Epoch 2/20\n",
            "40000/40000 [==============================] - 42s 1ms/step - loss: 1.0570 - acc: 0.6287 - val_loss: 1.1561 - val_acc: 0.5968\n",
            "Epoch 3/20\n",
            "40000/40000 [==============================] - 42s 1ms/step - loss: 1.0350 - acc: 0.6344 - val_loss: 1.2375 - val_acc: 0.5799\n",
            "Epoch 4/20\n",
            "40000/40000 [==============================] - 42s 1ms/step - loss: 1.0114 - acc: 0.6440 - val_loss: 1.0672 - val_acc: 0.6268\n",
            "Epoch 5/20\n",
            "40000/40000 [==============================] - 42s 1ms/step - loss: 0.9914 - acc: 0.6496 - val_loss: 1.3656 - val_acc: 0.5516\n",
            "Epoch 6/20\n",
            "40000/40000 [==============================] - 42s 1ms/step - loss: 0.9726 - acc: 0.6581 - val_loss: 1.2080 - val_acc: 0.5856\n",
            "Epoch 7/20\n",
            "40000/40000 [==============================] - 42s 1ms/step - loss: 0.9529 - acc: 0.6653 - val_loss: 1.1153 - val_acc: 0.6168\n",
            "Epoch 8/20\n",
            "40000/40000 [==============================] - 42s 1ms/step - loss: 0.9386 - acc: 0.6706 - val_loss: 1.0993 - val_acc: 0.6214\n",
            "Epoch 9/20\n",
            "40000/40000 [==============================] - 42s 1ms/step - loss: 0.9216 - acc: 0.6760 - val_loss: 1.0037 - val_acc: 0.6522\n",
            "Epoch 10/20\n",
            "40000/40000 [==============================] - 42s 1ms/step - loss: 0.9069 - acc: 0.6804 - val_loss: 1.1064 - val_acc: 0.6247\n",
            "Epoch 11/20\n",
            "40000/40000 [==============================] - 42s 1ms/step - loss: 0.8945 - acc: 0.6841 - val_loss: 1.1741 - val_acc: 0.5925\n",
            "Epoch 12/20\n",
            "40000/40000 [==============================] - 42s 1ms/step - loss: 0.8789 - acc: 0.6909 - val_loss: 1.1150 - val_acc: 0.6262\n",
            "Epoch 13/20\n",
            "40000/40000 [==============================] - 42s 1ms/step - loss: 0.8691 - acc: 0.6923 - val_loss: 1.0422 - val_acc: 0.6375\n",
            "Epoch 14/20\n",
            "40000/40000 [==============================] - 42s 1ms/step - loss: 0.8552 - acc: 0.6988 - val_loss: 1.1201 - val_acc: 0.6226\n",
            "Epoch 15/20\n",
            "40000/40000 [==============================] - 42s 1ms/step - loss: 0.8460 - acc: 0.7035 - val_loss: 1.0190 - val_acc: 0.6498\n",
            "Epoch 16/20\n",
            "40000/40000 [==============================] - 42s 1ms/step - loss: 0.8366 - acc: 0.7057 - val_loss: 1.0454 - val_acc: 0.6435\n",
            "Epoch 17/20\n",
            "40000/40000 [==============================] - 42s 1ms/step - loss: 0.8200 - acc: 0.7133 - val_loss: 0.9930 - val_acc: 0.6635\n",
            "Epoch 18/20\n",
            "40000/40000 [==============================] - 42s 1ms/step - loss: 0.8111 - acc: 0.7166 - val_loss: 1.1270 - val_acc: 0.6228\n",
            "Epoch 19/20\n",
            "40000/40000 [==============================] - 42s 1ms/step - loss: 0.8011 - acc: 0.7201 - val_loss: 1.2117 - val_acc: 0.5890\n",
            "Epoch 20/20\n",
            "40000/40000 [==============================] - 42s 1ms/step - loss: 0.7920 - acc: 0.7217 - val_loss: 1.0573 - val_acc: 0.6485\n"
          ],
          "name": "stdout"
        }
      ]
    },
    {
      "metadata": {
        "id": "CUx7JEBFHOx8",
        "colab_type": "code",
        "outputId": "41b0bb2b-9d9b-49bc-9fc5-bf4f23f74f7f",
        "colab": {
          "base_uri": "https://localhost:8080/",
          "height": 399
        }
      },
      "cell_type": "code",
      "source": [
        "epochs = 10\n",
        "history_four = model_three.fit(train_images,\n",
        "                           train_labels,\n",
        "                           epochs=epochs,\n",
        "                           validation_split=0.2,\n",
        "                           batch_size=128)"
      ],
      "execution_count": 0,
      "outputs": [
        {
          "output_type": "stream",
          "text": [
            "Train on 40000 samples, validate on 10000 samples\n",
            "Epoch 1/10\n",
            "40000/40000 [==============================] - 118s 3ms/step - loss: 2.0370 - acc: 0.2587 - val_loss: 1.8930 - val_acc: 0.3031\n",
            "Epoch 2/10\n",
            "40000/40000 [==============================] - 115s 3ms/step - loss: 1.7443 - acc: 0.3753 - val_loss: 1.6567 - val_acc: 0.4013\n",
            "Epoch 3/10\n",
            "40000/40000 [==============================] - 115s 3ms/step - loss: 1.6190 - acc: 0.4188 - val_loss: 1.6186 - val_acc: 0.4274\n",
            "Epoch 4/10\n",
            "40000/40000 [==============================] - 114s 3ms/step - loss: 1.5392 - acc: 0.4516 - val_loss: 1.5668 - val_acc: 0.4357\n",
            "Epoch 5/10\n",
            "40000/40000 [==============================] - 113s 3ms/step - loss: 1.4767 - acc: 0.4731 - val_loss: 1.5468 - val_acc: 0.4433\n",
            "Epoch 6/10\n",
            "40000/40000 [==============================] - 114s 3ms/step - loss: 1.4269 - acc: 0.4903 - val_loss: 1.6963 - val_acc: 0.4214\n",
            "Epoch 7/10\n",
            "40000/40000 [==============================] - 113s 3ms/step - loss: 1.3809 - acc: 0.5073 - val_loss: 1.4067 - val_acc: 0.5004\n",
            "Epoch 8/10\n",
            "40000/40000 [==============================] - 114s 3ms/step - loss: 1.3478 - acc: 0.5211 - val_loss: 1.3994 - val_acc: 0.5004\n",
            "Epoch 9/10\n",
            "40000/40000 [==============================] - 115s 3ms/step - loss: 1.3082 - acc: 0.5337 - val_loss: 1.4896 - val_acc: 0.4743\n",
            "Epoch 10/10\n",
            "40000/40000 [==============================] - 115s 3ms/step - loss: 1.2789 - acc: 0.5475 - val_loss: 1.3463 - val_acc: 0.5310\n"
          ],
          "name": "stdout"
        }
      ]
    },
    {
      "metadata": {
        "id": "JL0Jd_auJ2Wf",
        "colab_type": "code",
        "outputId": "89623713-9cac-448a-ba34-91d758f96c74",
        "colab": {
          "base_uri": "https://localhost:8080/",
          "height": 399
        }
      },
      "cell_type": "code",
      "source": [
        "epochs = 10\n",
        "history_five = model_four.fit(train_images,\n",
        "                           train_labels,\n",
        "                           epochs=epochs,\n",
        "                           validation_split=0.2,\n",
        "                           batch_size=128)"
      ],
      "execution_count": 0,
      "outputs": [
        {
          "output_type": "stream",
          "text": [
            "Train on 40000 samples, validate on 10000 samples\n",
            "Epoch 1/10\n",
            "40000/40000 [==============================] - 180s 4ms/step - loss: 2.0695 - acc: 0.2305 - val_loss: 1.8564 - val_acc: 0.3107\n",
            "Epoch 2/10\n",
            "40000/40000 [==============================] - 177s 4ms/step - loss: 1.7821 - acc: 0.3569 - val_loss: 1.7671 - val_acc: 0.3636\n",
            "Epoch 3/10\n",
            "40000/40000 [==============================] - 179s 4ms/step - loss: 1.6490 - acc: 0.4066 - val_loss: 1.6603 - val_acc: 0.4070\n",
            "Epoch 4/10\n",
            "40000/40000 [==============================] - 177s 4ms/step - loss: 1.5663 - acc: 0.4357 - val_loss: 1.6364 - val_acc: 0.4008\n",
            "Epoch 5/10\n",
            "40000/40000 [==============================] - 178s 4ms/step - loss: 1.5044 - acc: 0.4582 - val_loss: 1.6413 - val_acc: 0.4212\n",
            "Epoch 6/10\n",
            "40000/40000 [==============================] - 177s 4ms/step - loss: 1.4573 - acc: 0.4762 - val_loss: 1.5424 - val_acc: 0.4463\n",
            "Epoch 7/10\n",
            "40000/40000 [==============================] - 178s 4ms/step - loss: 1.4129 - acc: 0.4957 - val_loss: 1.4596 - val_acc: 0.4794\n",
            "Epoch 8/10\n",
            "40000/40000 [==============================] - 178s 4ms/step - loss: 1.3772 - acc: 0.5055 - val_loss: 1.4507 - val_acc: 0.4848\n",
            "Epoch 9/10\n",
            "40000/40000 [==============================] - 176s 4ms/step - loss: 1.3418 - acc: 0.5207 - val_loss: 1.3970 - val_acc: 0.5043\n",
            "Epoch 10/10\n",
            "40000/40000 [==============================] - 176s 4ms/step - loss: 1.3091 - acc: 0.5343 - val_loss: 1.3297 - val_acc: 0.5233\n"
          ],
          "name": "stdout"
        }
      ]
    },
    {
      "metadata": {
        "id": "5FZN3bEXJ95-",
        "colab_type": "code",
        "outputId": "7b162230-c420-4439-c11e-dd18ab8785a0",
        "colab": {
          "base_uri": "https://localhost:8080/",
          "height": 399
        }
      },
      "cell_type": "code",
      "source": [
        "epochs = 10\n",
        "history_six = model_five.fit(train_images,\n",
        "                           train_labels,\n",
        "                           epochs=epochs,\n",
        "                           validation_split=0.2,\n",
        "                           batch_size=128)"
      ],
      "execution_count": 0,
      "outputs": [
        {
          "output_type": "stream",
          "text": [
            "Train on 40000 samples, validate on 10000 samples\n",
            "Epoch 1/10\n",
            "40000/40000 [==============================] - 63s 2ms/step - loss: 1.9831 - acc: 0.2621 - val_loss: 1.7268 - val_acc: 0.3823\n",
            "Epoch 2/10\n",
            "40000/40000 [==============================] - 62s 2ms/step - loss: 1.6974 - acc: 0.3768 - val_loss: 1.6735 - val_acc: 0.3878\n",
            "Epoch 3/10\n",
            "40000/40000 [==============================] - 62s 2ms/step - loss: 1.5802 - acc: 0.4207 - val_loss: 1.6500 - val_acc: 0.4075\n",
            "Epoch 4/10\n",
            "40000/40000 [==============================] - 62s 2ms/step - loss: 1.5013 - acc: 0.4564 - val_loss: 1.4441 - val_acc: 0.4818\n",
            "Epoch 5/10\n",
            "40000/40000 [==============================] - 63s 2ms/step - loss: 1.4393 - acc: 0.4772 - val_loss: 1.3480 - val_acc: 0.5244\n",
            "Epoch 6/10\n",
            "40000/40000 [==============================] - 63s 2ms/step - loss: 1.3925 - acc: 0.4980 - val_loss: 1.3328 - val_acc: 0.5328\n",
            "Epoch 7/10\n",
            "40000/40000 [==============================] - 63s 2ms/step - loss: 1.3494 - acc: 0.5143 - val_loss: 1.2917 - val_acc: 0.5396\n",
            "Epoch 8/10\n",
            "40000/40000 [==============================] - 64s 2ms/step - loss: 1.3154 - acc: 0.5300 - val_loss: 1.2208 - val_acc: 0.5724\n",
            "Epoch 9/10\n",
            "40000/40000 [==============================] - 63s 2ms/step - loss: 1.2897 - acc: 0.5405 - val_loss: 1.2530 - val_acc: 0.5529\n",
            "Epoch 10/10\n",
            "40000/40000 [==============================] - 64s 2ms/step - loss: 1.2662 - acc: 0.5455 - val_loss: 1.1755 - val_acc: 0.5727\n"
          ],
          "name": "stdout"
        }
      ]
    },
    {
      "metadata": {
        "id": "Jy_kJwwk20IT",
        "colab_type": "text"
      },
      "cell_type": "markdown",
      "source": [
        "Training With K-fold\n",
        "----------------------------"
      ]
    },
    {
      "metadata": {
        "id": "KGbn81ZO23FZ",
        "colab_type": "code",
        "colab": {
          "base_uri": "https://localhost:8080/",
          "height": 1674
        },
        "outputId": "02c08578-917a-4f66-bec5-d6e91df59c10"
      },
      "cell_type": "code",
      "source": [
        "# k_fold_train_images = random_train_images[starting_index:last_index]\n",
        "# k_fold_train_labels = random_train_labels[starting_index:last_index]\n",
        "k_history_one = k_history_two = k_history_three = []\n",
        "\n",
        "for i in range(10):\n",
        "  current_index = int(len(k_fold_train_images) * 0.1)\n",
        "  \n",
        "  validation_images = k_fold_train_images[i*current_index:(i+1)*current_index]\n",
        "  #print(validation_images)\n",
        "  validation_labels = k_fold_train_labels[i*current_index:(i+1)*current_index]\n",
        "  \n",
        "  x = k_fold_train_images[0 : i*current_index:(i+1)]\n",
        "  y = k_fold_train_images[int((i+1)*current_index) : int(len(k_fold_train_images))]\n",
        "  \n",
        "  current_k_fold_train_images = np.concatenate((x,y))\n",
        "  current_k_fold_train_labels =  np.concatenate((k_fold_train_labels[0:i*current_index:(i+1)], k_fold_train_labels[(i+1)*current_index:len(k_fold_train_labels)]))\n",
        "  \n",
        "  validation_data = (validation_images, validation_labels)\n",
        "  \n",
        "  k_history_one.append(k_model_one.fit(current_k_fold_train_images,current_k_fold_train_labels,\n",
        "                   epochs=1,\n",
        "                   validation_data=(current_k_fold_train_images,current_k_fold_train_labels)))\n",
        "  k_history_two.append(k_model_one.fit(current_k_fold_train_images,current_k_fold_train_labels,\n",
        "                   epochs=1,\n",
        "                   validation_data=(current_k_fold_train_images,current_k_fold_train_labels)))\n",
        "  k_history_three.append(k_model_one.fit(current_k_fold_train_images,current_k_fold_train_labels,\n",
        "                   epochs=1,\n",
        "                   validation_data=(current_k_fold_train_images,current_k_fold_train_labels)))\n",
        "  "
      ],
      "execution_count": 91,
      "outputs": [
        {
          "output_type": "stream",
          "text": [
            "Train on 4500 samples, validate on 4500 samples\n",
            "Epoch 1/1\n",
            "4500/4500 [==============================] - 47s 11ms/step - loss: 0.0698 - acc: 0.9793 - val_loss: 0.0290 - val_acc: 0.9900\n",
            "Train on 4500 samples, validate on 4500 samples\n",
            "Epoch 1/1\n",
            "4500/4500 [==============================] - 48s 11ms/step - loss: 0.0362 - acc: 0.9904 - val_loss: 0.0175 - val_acc: 0.9944\n",
            "Train on 4500 samples, validate on 4500 samples\n",
            "Epoch 1/1\n",
            "4500/4500 [==============================] - 47s 11ms/step - loss: 0.0434 - acc: 0.9889 - val_loss: 0.6245 - val_acc: 0.8893\n",
            "Train on 4250 samples, validate on 4250 samples\n",
            "Epoch 1/1\n",
            "4250/4250 [==============================] - 45s 11ms/step - loss: 0.0503 - acc: 0.9892 - val_loss: 0.0127 - val_acc: 0.9958\n",
            "Train on 4250 samples, validate on 4250 samples\n",
            "Epoch 1/1\n",
            "4250/4250 [==============================] - 45s 11ms/step - loss: 0.0311 - acc: 0.9894 - val_loss: 0.0017 - val_acc: 0.9998\n",
            "Train on 4250 samples, validate on 4250 samples\n",
            "Epoch 1/1\n",
            "4250/4250 [==============================] - 45s 11ms/step - loss: 0.0433 - acc: 0.9878 - val_loss: 0.0035 - val_acc: 0.9991\n",
            "Train on 3834 samples, validate on 3834 samples\n",
            "Epoch 1/1\n",
            "3834/3834 [==============================] - 42s 11ms/step - loss: 0.0394 - acc: 0.9896 - val_loss: 0.0513 - val_acc: 0.9833\n",
            "Train on 3834 samples, validate on 3834 samples\n",
            "Epoch 1/1\n",
            "3834/3834 [==============================] - 41s 11ms/step - loss: 0.0186 - acc: 0.9937 - val_loss: 0.0494 - val_acc: 0.9877\n",
            "Train on 3834 samples, validate on 3834 samples\n",
            "Epoch 1/1\n",
            "3834/3834 [==============================] - 41s 11ms/step - loss: 0.0466 - acc: 0.9872 - val_loss: 0.0398 - val_acc: 0.9909\n",
            "Train on 3375 samples, validate on 3375 samples\n",
            "Epoch 1/1\n",
            "3375/3375 [==============================] - 36s 11ms/step - loss: 0.0712 - acc: 0.9876 - val_loss: 0.0304 - val_acc: 0.9929\n",
            "Train on 3375 samples, validate on 3375 samples\n",
            "Epoch 1/1\n",
            "3375/3375 [==============================] - 36s 11ms/step - loss: 0.0454 - acc: 0.9908 - val_loss: 0.3201 - val_acc: 0.9455\n",
            "Train on 3375 samples, validate on 3375 samples\n",
            "Epoch 1/1\n",
            "3375/3375 [==============================] - 36s 11ms/step - loss: 0.0316 - acc: 0.9947 - val_loss: 0.0241 - val_acc: 0.9917\n",
            "Train on 2900 samples, validate on 2900 samples\n",
            "Epoch 1/1\n",
            "2900/2900 [==============================] - 31s 11ms/step - loss: 0.1162 - acc: 0.9817 - val_loss: 0.0516 - val_acc: 0.9941\n",
            "Train on 2900 samples, validate on 2900 samples\n",
            "Epoch 1/1\n",
            "2900/2900 [==============================] - 31s 11ms/step - loss: 0.0640 - acc: 0.9914 - val_loss: 0.0625 - val_acc: 0.9872\n",
            "Train on 2900 samples, validate on 2900 samples\n",
            "Epoch 1/1\n",
            "2900/2900 [==============================] - 31s 11ms/step - loss: 0.0636 - acc: 0.9900 - val_loss: 0.0219 - val_acc: 0.9972\n",
            "Train on 2417 samples, validate on 2417 samples\n",
            "Epoch 1/1\n",
            "2417/2417 [==============================] - 26s 11ms/step - loss: 0.0329 - acc: 0.9917 - val_loss: 0.0046 - val_acc: 0.9979\n",
            "Train on 2417 samples, validate on 2417 samples\n",
            "Epoch 1/1\n",
            "2417/2417 [==============================] - 26s 11ms/step - loss: 0.0017 - acc: 0.9992 - val_loss: 0.0094 - val_acc: 0.9971\n",
            "Train on 2417 samples, validate on 2417 samples\n",
            "Epoch 1/1\n",
            "2417/2417 [==============================] - 26s 11ms/step - loss: 0.0134 - acc: 0.9971 - val_loss: 0.0994 - val_acc: 0.9772\n",
            "Train on 1929 samples, validate on 1929 samples\n",
            "Epoch 1/1\n",
            "1929/1929 [==============================] - 20s 11ms/step - loss: 0.2397 - acc: 0.9694 - val_loss: 0.3115 - val_acc: 0.9544\n",
            "Train on 1929 samples, validate on 1929 samples\n",
            "Epoch 1/1\n",
            "1929/1929 [==============================] - 20s 11ms/step - loss: 0.0923 - acc: 0.9865 - val_loss: 0.1193 - val_acc: 0.9819\n",
            "Train on 1929 samples, validate on 1929 samples\n",
            "Epoch 1/1\n",
            "1929/1929 [==============================] - 20s 11ms/step - loss: 0.0596 - acc: 0.9891 - val_loss: 0.0417 - val_acc: 0.9969\n",
            "Train on 1438 samples, validate on 1438 samples\n",
            "Epoch 1/1\n",
            "1438/1438 [==============================] - 15s 10ms/step - loss: 0.0477 - acc: 0.9903 - val_loss: 7.7872e-04 - val_acc: 1.0000\n",
            "Train on 1438 samples, validate on 1438 samples\n",
            "Epoch 1/1\n",
            "1438/1438 [==============================] - 15s 10ms/step - loss: 4.8725e-04 - acc: 1.0000 - val_loss: 5.7310e-05 - val_acc: 1.0000\n",
            "Train on 1438 samples, validate on 1438 samples\n",
            "Epoch 1/1\n",
            "1438/1438 [==============================] - 15s 10ms/step - loss: 0.0255 - acc: 0.9937 - val_loss: 0.0169 - val_acc: 0.9979\n",
            "Train on 945 samples, validate on 945 samples\n",
            "Epoch 1/1\n",
            "945/945 [==============================] - 10s 10ms/step - loss: 0.0465 - acc: 0.9937 - val_loss: 0.0252 - val_acc: 0.9958\n",
            "Train on 945 samples, validate on 945 samples\n",
            "Epoch 1/1\n",
            "945/945 [==============================] - 10s 10ms/step - loss: 0.0172 - acc: 0.9989 - val_loss: 0.0171 - val_acc: 0.9989\n",
            "Train on 945 samples, validate on 945 samples\n",
            "Epoch 1/1\n",
            "945/945 [==============================] - 10s 10ms/step - loss: 0.0171 - acc: 0.9989 - val_loss: 0.0171 - val_acc: 0.9989\n",
            "Train on 450 samples, validate on 450 samples\n",
            "Epoch 1/1\n",
            "450/450 [==============================] - 5s 11ms/step - loss: 0.3338 - acc: 0.9556 - val_loss: 2.5804e-04 - val_acc: 1.0000\n",
            "Train on 450 samples, validate on 450 samples\n",
            "Epoch 1/1\n",
            "450/450 [==============================] - 5s 11ms/step - loss: 2.4803e-04 - acc: 1.0000 - val_loss: 4.5207e-07 - val_acc: 1.0000\n",
            "Train on 450 samples, validate on 450 samples\n",
            "Epoch 1/1\n",
            "450/450 [==============================] - 5s 11ms/step - loss: 4.5075e-07 - acc: 1.0000 - val_loss: 3.6200e-07 - val_acc: 1.0000\n"
          ],
          "name": "stdout"
        }
      ]
    },
    {
      "metadata": {
        "id": "qp-AI1PkDkt9",
        "colab_type": "text"
      },
      "cell_type": "markdown",
      "source": [
        ""
      ]
    },
    {
      "metadata": {
        "id": "XKMogn3VCtFc",
        "colab_type": "code",
        "colab": {
          "base_uri": "https://localhost:8080/",
          "height": 395
        },
        "outputId": "5b9d9264-0698-40b3-c247-ac734dd8d69c"
      },
      "cell_type": "code",
      "source": [
        "import matplotlib.pyplot as plt\n",
        "loss_values = test_loss_values = acc_values = test_acc_values = []\n",
        "for i in range(10):\n",
        "  history_dict = k_history_one[i].history\n",
        "  loss_values.append(history_dict['loss'])\n",
        "  test_loss_values.append(history_dict['val_loss'])\n",
        "  acc_values.append(history_dict['acc'])\n",
        "  test_acc_values.append(history_dict['val_acc'])\n",
        "\n",
        "epochs_range = range(1, 40 + 1)\n",
        "print(len(acc_values))\n",
        "\n",
        "\n",
        "plt.plot(epochs_range, acc_values, 'bo', label='Training accuracy')\n",
        "plt.plot(epochs_range, test_acc_values, 'ro', label='Test accuracy')\n",
        "plt.title('Training and test accuracy')\n",
        "plt.xlabel('Epochs')\n",
        "plt.ylabel('Accuracy')\n",
        "plt.legend()\n",
        "plt.show()"
      ],
      "execution_count": 119,
      "outputs": [
        {
          "output_type": "stream",
          "text": [
            "40\n"
          ],
          "name": "stdout"
        },
        {
          "output_type": "display_data",
          "data": {
            "image/png": "[encoded data removed]",
            "text/plain": [
              "<Figure size 576x396 with 1 Axes>"
            ]
          },
          "metadata": {
            "tags": []
          }
        }
      ]
    },
    {
      "metadata": {
        "colab_type": "code",
        "outputId": "eec66ba1-4280-43a3-c63c-e99bab5432dc",
        "id": "QSH6MmtTclFi",
        "colab": {
          "base_uri": "https://localhost:8080/",
          "height": 395
        }
      },
      "cell_type": "code",
      "source": [
        "loss_values = test_loss_values = acc_values = test_acc_values = []\n",
        "for i in range(10):\n",
        "  history_dict = k_history_two[i].history\n",
        "  loss_values.append(history_dict['loss'])\n",
        "  test_loss_values.append(history_dict['val_loss'])\n",
        "  acc_values.append(history_dict['acc'])\n",
        "  test_acc_values.append(history_dict['val_acc'])\n",
        "\n",
        "epochs_range = range(1, 40 + 1)\n",
        "print(len(acc_values))\n",
        "\n",
        "\n",
        "plt.plot(epochs_range, acc_values, 'bo', label='Training accuracy')\n",
        "plt.plot(epochs_range, test_acc_values, 'ro', label='Test accuracy')\n",
        "plt.title('Training and test accuracy')\n",
        "plt.xlabel('Epochs')\n",
        "plt.ylabel('Accuracy')\n",
        "plt.legend()\n",
        "plt.show()"
      ],
      "execution_count": 118,
      "outputs": [
        {
          "output_type": "stream",
          "text": [
            "40\n"
          ],
          "name": "stdout"
        },
        {
          "output_type": "display_data",
          "data": {
            "image/png": "[encoded data removed]",
            "text/plain": [
              "<Figure size 576x396 with 1 Axes>"
            ]
          },
          "metadata": {
            "tags": []
          }
        }
      ]
    },
    {
      "metadata": {
        "colab_type": "code",
        "id": "qhsj3gTmclUm",
        "colab": {
          "base_uri": "https://localhost:8080/",
          "height": 395
        },
        "outputId": "5c07aaac-8d98-4315-e425-638d33593435"
      },
      "cell_type": "code",
      "source": [
        "loss_values = test_loss_values = acc_values = test_acc_values = []\n",
        "for i in range(10):\n",
        "  history_dict = k_history_three[i].history\n",
        "  loss_values.append(history_dict['loss'])\n",
        "  test_loss_values.append(history_dict['val_loss'])\n",
        "  acc_values.append(history_dict['acc'])\n",
        "  test_acc_values.append(history_dict['val_acc'])\n",
        "\n",
        "epochs_range = range(1, 40 + 1)\n",
        "print(len(acc_values))\n",
        "\n",
        "\n",
        "plt.plot(epochs_range, acc_values, 'bo', label='Training accuracy')\n",
        "plt.plot(epochs_range, test_acc_values, 'ro', label='Test accuracy')\n",
        "plt.title('Training and test accuracy')\n",
        "plt.xlabel('Epochs')\n",
        "plt.ylabel('Accuracy')\n",
        "plt.legend()\n",
        "plt.show()"
      ],
      "execution_count": 120,
      "outputs": [
        {
          "output_type": "stream",
          "text": [
            "40\n"
          ],
          "name": "stdout"
        },
        {
          "output_type": "display_data",
          "data": {
            "image/png": "[encoded data removed]",
            "text/plain": [
              "<Figure size 576x396 with 1 Axes>"
            ]
          },
          "metadata": {
            "tags": []
          }
        }
      ]
    },
    {
      "metadata": {
        "id": "UjuNpmkW3b66",
        "colab_type": "text"
      },
      "cell_type": "markdown",
      "source": [
        "Graphs\n",
        "--------------"
      ]
    },
    {
      "metadata": {
        "id": "g3z_35FR3eDB",
        "colab_type": "code",
        "colab": {}
      },
      "cell_type": "code",
      "source": [
        "import matplotlib.pyplot as plt\n",
        "\n",
        "history_dict_one = history_one.history\n",
        "loss_values_one = history_dict_one['loss']\n",
        "test_loss_values_one = history_dict_one['val_loss']\n",
        "epochs_range_one = range(1, 5 + 1)"
      ],
      "execution_count": 0,
      "outputs": []
    },
    {
      "metadata": {
        "id": "SJoqsvg4NwpK",
        "colab_type": "code",
        "colab": {}
      },
      "cell_type": "code",
      "source": [
        "import matplotlib.pyplot as plt"
      ],
      "execution_count": 0,
      "outputs": []
    },
    {
      "metadata": {
        "id": "L1xVKaaV-cAd",
        "colab_type": "code",
        "outputId": "1ce47804-7640-408b-a601-b3c9acc2cb1a",
        "colab": {
          "base_uri": "https://localhost:8080/",
          "height": 376
        }
      },
      "cell_type": "code",
      "source": [
        "acc_values_one = history_dict_one['acc']\n",
        "test_acc_values_one = history_dict_one['val_acc']\n",
        "\n",
        "plt.plot(epochs_range_one, acc_values_one, 'bo', label='Training accuracy')\n",
        "plt.plot(epochs_range_one, test_acc_values_one, 'ro', label='Test accuracy')\n",
        "plt.title('Training and test accuracy')\n",
        "plt.xlabel('Epochs')\n",
        "plt.ylabel('Accuracy')\n",
        "plt.legend()\n",
        "plt.show()"
      ],
      "execution_count": 0,
      "outputs": [
        {
          "output_type": "display_data",
          "data": {
            "image/png": "[encoded data removed]",
            "text/plain": [
              "<Figure size 576x396 with 1 Axes>"
            ]
          },
          "metadata": {
            "tags": []
          }
        }
      ]
    },
    {
      "metadata": {
        "id": "3TkQn6aa_2r6",
        "colab_type": "text"
      },
      "cell_type": "markdown",
      "source": [
        "Does well on the validation set, but the test accuracy starts to fall with later epochs.\n",
        "\n",
        "Model with only a filter and no maxpooling performs very slowly and poorly"
      ]
    },
    {
      "metadata": {
        "id": "Oa2It3gqOcIf",
        "colab_type": "code",
        "outputId": "3f578cd6-df84-4471-b023-a5bb19f77f61",
        "colab": {
          "base_uri": "https://localhost:8080/",
          "height": 376
        }
      },
      "cell_type": "code",
      "source": [
        "import matplotlib.pyplot as plt\n",
        "\n",
        "history_dict = history_two.history\n",
        "loss_values = history_dict['loss']\n",
        "test_loss_values = history_dict['val_loss']\n",
        "epochs_range = range(1, epochs + 1)\n",
        "\n",
        "acc_values = history_dict['acc']\n",
        "test_acc_values = history_dict['val_acc']\n",
        "\n",
        "plt.plot(epochs_range, acc_values, 'bo', label='Training accuracy')\n",
        "plt.plot(epochs_range, test_acc_values, 'ro', label='Test accuracy')\n",
        "plt.title('Training and test accuracy')\n",
        "plt.xlabel('Epochs')\n",
        "plt.ylabel('Accuracy')\n",
        "plt.legend()\n",
        "plt.show()"
      ],
      "execution_count": 0,
      "outputs": [
        {
          "output_type": "display_data",
          "data": {
            "image/png": "[encoded data removed]",
            "text/plain": [
              "<Figure size 576x396 with 1 Axes>"
            ]
          },
          "metadata": {
            "tags": []
          }
        }
      ]
    },
    {
      "metadata": {
        "id": "E72N9RrnOtIz",
        "colab_type": "code",
        "outputId": "ff450c5b-8bac-4e69-9f5f-42df4c19622c",
        "colab": {
          "base_uri": "https://localhost:8080/",
          "height": 376
        }
      },
      "cell_type": "code",
      "source": [
        "history_dict = history_three.history\n",
        "loss_values = history_dict['loss']\n",
        "test_loss_values = history_dict['val_loss']\n",
        "epochs_range = range(1, 20 + 1)\n",
        "\n",
        "acc_values = history_dict['acc']\n",
        "test_acc_values = history_dict['val_acc']\n",
        "\n",
        "plt.plot(epochs_range, acc_values, 'bo', label='Training accuracy')\n",
        "plt.plot(epochs_range, test_acc_values, 'ro', label='Test accuracy')\n",
        "plt.title('Training and test accuracy')\n",
        "plt.xlabel('Epochs')\n",
        "plt.ylabel('Accuracy')\n",
        "plt.legend()\n",
        "plt.show()"
      ],
      "execution_count": 0,
      "outputs": [
        {
          "output_type": "display_data",
          "data": {
            "image/png": "[encoded data removed]",
            "text/plain": [
              "<Figure size 576x396 with 1 Axes>"
            ]
          },
          "metadata": {
            "tags": []
          }
        }
      ]
    },
    {
      "metadata": {
        "id": "pni4rYhkOur4",
        "colab_type": "code",
        "outputId": "06d0e58c-a501-4896-e4d4-e730fa264b6e",
        "colab": {
          "base_uri": "https://localhost:8080/",
          "height": 376
        }
      },
      "cell_type": "code",
      "source": [
        "history_dict = history_four.history\n",
        "loss_values = history_dict['loss']\n",
        "test_loss_values = history_dict['val_loss']\n",
        "epochs_range = range(1, epochs + 1)\n",
        "\n",
        "acc_values = history_dict['acc']\n",
        "test_acc_values = history_dict['val_acc']\n",
        "\n",
        "plt.plot(epochs_range, acc_values, 'bo', label='Training accuracy')\n",
        "plt.plot(epochs_range, test_acc_values, 'ro', label='Test accuracy')\n",
        "plt.title('Training and test accuracy')\n",
        "plt.xlabel('Epochs')\n",
        "plt.ylabel('Accuracy')\n",
        "plt.legend()\n",
        "plt.show()"
      ],
      "execution_count": 0,
      "outputs": [
        {
          "output_type": "display_data",
          "data": {
            "image/png": "[encoded data removed]",
            "text/plain": [
              "<Figure size 576x396 with 1 Axes>"
            ]
          },
          "metadata": {
            "tags": []
          }
        }
      ]
    },
    {
      "metadata": {
        "id": "uDxHiXKLOwtT",
        "colab_type": "code",
        "outputId": "e1348d52-7144-4c21-ffca-3999afc814fe",
        "colab": {
          "base_uri": "https://localhost:8080/",
          "height": 376
        }
      },
      "cell_type": "code",
      "source": [
        "history_dict = history_five.history\n",
        "loss_values = history_dict['loss']\n",
        "test_loss_values = history_dict['val_loss']\n",
        "epochs_range = range(1, epochs + 1)\n",
        "\n",
        "acc_values = history_dict['acc']\n",
        "test_acc_values = history_dict['val_acc']\n",
        "\n",
        "plt.plot(epochs_range, acc_values, 'bo', label='Training accuracy')\n",
        "plt.plot(epochs_range, test_acc_values, 'ro', label='Test accuracy')\n",
        "plt.title('Training and test accuracy')\n",
        "plt.xlabel('Epochs')\n",
        "plt.ylabel('Accuracy')\n",
        "plt.legend()\n",
        "plt.show()"
      ],
      "execution_count": 0,
      "outputs": [
        {
          "output_type": "display_data",
          "data": {
            "image/png": "[encoded data removed]",
            "text/plain": [
              "<Figure size 576x396 with 1 Axes>"
            ]
          },
          "metadata": {
            "tags": []
          }
        }
      ]
    },
    {
      "metadata": {
        "id": "BavA8yFKOyyW",
        "colab_type": "code",
        "outputId": "44140a5b-773b-42de-89f0-c5c6a1d3da43",
        "colab": {
          "base_uri": "https://localhost:8080/",
          "height": 376
        }
      },
      "cell_type": "code",
      "source": [
        "history_dict = history_six.history\n",
        "loss_values = history_dict['loss']\n",
        "test_loss_values = history_dict['val_loss']\n",
        "epochs_range = range(1, epochs + 1)\n",
        "\n",
        "acc_values = history_dict['acc']\n",
        "test_acc_values = history_dict['val_acc']\n",
        "\n",
        "plt.plot(epochs_range, acc_values, 'bo', label='Training accuracy')\n",
        "plt.plot(epochs_range, test_acc_values, 'ro', label='Test accuracy')\n",
        "plt.title('Training and test accuracy')\n",
        "plt.xlabel('Epochs')\n",
        "plt.ylabel('Accuracy')\n",
        "plt.legend()\n",
        "plt.show()"
      ],
      "execution_count": 0,
      "outputs": [
        {
          "output_type": "display_data",
          "data": {
            "image/png": "[encoded data removed]",
            "text/plain": [
              "<Figure size 576x396 with 1 Axes>"
            ]
          },
          "metadata": {
            "tags": []
          }
        }
      ]
    },
    {
      "metadata": {
        "id": "ugC1gtx5N0AG",
        "colab_type": "code",
        "colab": {}
      },
      "cell_type": "code",
      "source": [
        "history_dict = history_six.history\n",
        "loss_values = history_dict['loss']\n",
        "test_loss_values = history_dict['val_loss']\n",
        "epochs_range = range(1, epochs + 1)\n",
        "\n",
        "acc_values = history_dict['acc']\n",
        "test_acc_values = history_dict['val_acc']\n",
        "\n",
        "plt.plot(epochs_range, acc_values, 'bo', label='Training accuracy')\n",
        "plt.plot(epochs_range, test_acc_values, 'ro', label='Test accuracy')\n",
        "plt.title('Training and test accuracy')\n",
        "plt.xlabel('Epochs')\n",
        "plt.ylabel('Accuracy')\n",
        "plt.legend()\n",
        "plt.show()"
      ],
      "execution_count": 0,
      "outputs": []
    },
    {
      "metadata": {
        "id": "lkYrzg6NN0mM",
        "colab_type": "code",
        "colab": {}
      },
      "cell_type": "code",
      "source": [
        ""
      ],
      "execution_count": 0,
      "outputs": []
    },
    {
      "metadata": {
        "id": "fyjK2DUJN0uT",
        "colab_type": "code",
        "colab": {}
      },
      "cell_type": "code",
      "source": [
        ""
      ],
      "execution_count": 0,
      "outputs": []
    }
  ]
}