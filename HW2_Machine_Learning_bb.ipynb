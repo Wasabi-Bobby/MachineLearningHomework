{
  "nbformat": 4,
  "nbformat_minor": 0,
  "metadata": {
    "colab": {
      "name": "HW2 Machine Learning bb.ipynb",
      "version": "0.3.2",
      "provenance": [],
      "include_colab_link": true
    },
    "kernelspec": {
      "name": "python3",
      "display_name": "Python 3"
    }
  },
  "cells": [
    {
      "cell_type": "markdown",
      "metadata": {
        "id": "view-in-github",
        "colab_type": "text"
      },
      "source": [
        "<a href=\"https://colab.research.google.com/github/Wasabi-Bobby/MachineLearningHomework/blob/master/HW2_Machine_Learning_bb.ipynb\" target=\"_parent\"><img src=\"https://colab.research.google.com/assets/colab-badge.svg\" alt=\"Open In Colab\"/></a>"
      ]
    },
    {
      "metadata": {
        "id": "lVUScIxVfIBY",
        "colab_type": "code",
        "colab": {
          "base_uri": "https://localhost:8080/",
          "height": 54
        },
        "outputId": "baff99a3-d2ea-4c7f-d9c5-1eae0aa65950"
      },
      "cell_type": "code",
      "source": [
        "from keras.datasets import cifar10\n",
        "\n",
        "(train_images_original, train_labels_original), (test_images_original, test_labels_original) = cifar10.load_data()"
      ],
      "execution_count": 9,
      "outputs": [
        {
          "output_type": "stream",
          "text": [
            "Downloading data from https://www.cs.toronto.edu/~kriz/cifar-10-python.tar.gz\n",
            "170500096/170498071 [==============================] - 23s 0us/step\n"
          ],
          "name": "stdout"
        }
      ]
    },
    {
      "metadata": {
        "id": "dJE3NKMcxD96",
        "colab_type": "text"
      },
      "cell_type": "markdown",
      "source": [
        "Preparing image and labels\n",
        "-------------\n",
        "\n"
      ]
    },
    {
      "metadata": {
        "id": "oxuHgrrRxxp_",
        "colab_type": "code",
        "outputId": "64b10ffa-29e2-4aa3-91f0-1b56c8007fb2",
        "colab": {
          "base_uri": "https://localhost:8080/",
          "height": 35
        }
      },
      "cell_type": "code",
      "source": [
        "train_images_original.shape"
      ],
      "execution_count": 0,
      "outputs": [
        {
          "output_type": "execute_result",
          "data": {
            "text/plain": [
              "(50000, 32, 32, 3)"
            ]
          },
          "metadata": {
            "tags": []
          },
          "execution_count": 21
        }
      ]
    },
    {
      "metadata": {
        "id": "smLtkeDax0Cw",
        "colab_type": "code",
        "outputId": "0c5bdeb0-744d-4c1d-b36e-9ef948bf1284",
        "colab": {
          "base_uri": "https://localhost:8080/",
          "height": 35
        }
      },
      "cell_type": "code",
      "source": [
        "test_images_original.shape"
      ],
      "execution_count": 0,
      "outputs": [
        {
          "output_type": "execute_result",
          "data": {
            "text/plain": [
              "(10000, 32, 32, 3)"
            ]
          },
          "metadata": {
            "tags": []
          },
          "execution_count": 23
        }
      ]
    },
    {
      "metadata": {
        "id": "-VQeFmzdxFnb",
        "colab_type": "code",
        "colab": {}
      },
      "cell_type": "code",
      "source": [
        "train_images = train_images_original.reshape((50000, 32, 32, 3))\n",
        "train_images = train_images.astype('float32') / 255\n",
        "\n",
        "test_images = test_images_original.reshape((10000, 32, 32, 3))\n",
        "test_images = test_images.astype('float32') / 255"
      ],
      "execution_count": 0,
      "outputs": []
    },
    {
      "metadata": {
        "id": "dfvzqV1kyCPc",
        "colab_type": "code",
        "colab": {}
      },
      "cell_type": "code",
      "source": [
        "from keras.utils import to_categorical\n",
        "\n",
        "train_labels = to_categorical(train_labels_original)\n",
        "test_labels = to_categorical(test_labels_original)"
      ],
      "execution_count": 0,
      "outputs": []
    },
    {
      "metadata": {
        "id": "LZpH3CBWvd2O",
        "colab_type": "text"
      },
      "cell_type": "markdown",
      "source": [
        "Some nice code snippet i found for shuffling two arrays on github. Link -> https://stackoverflow.com/questions/4601373/better-way-to-shuffle-two-numpy-arrays-in-unison"
      ]
    },
    {
      "metadata": {
        "id": "9ujASf_Jvmhm",
        "colab_type": "code",
        "colab": {}
      },
      "cell_type": "code",
      "source": [
        "import numpy as np\n",
        "def unison_shuffled_copies(a, b):\n",
        "    assert len(a) == len(b)\n",
        "    p = np.random.permutation(len(a))\n",
        "    return a[p], b[p]"
      ],
      "execution_count": 0,
      "outputs": []
    },
    {
      "metadata": {
        "id": "2szCyhA7v9uN",
        "colab_type": "text"
      },
      "cell_type": "markdown",
      "source": [
        "Testing this just in case\n",
        "----------------------------\n",
        "It works!"
      ]
    },
    {
      "metadata": {
        "id": "HetbbDSov_eu",
        "colab_type": "code",
        "outputId": "04e3af3d-9942-4c84-8717-9288b4f06908",
        "colab": {
          "base_uri": "https://localhost:8080/",
          "height": 54
        }
      },
      "cell_type": "code",
      "source": [
        "x = np.array([1,2,3,4])\n",
        "y = np.array([1,2,3,4])\n",
        "random_x, random_y = unison_shuffled_copies(x, y)\n",
        "print(random_x)\n",
        "print(random_y)"
      ],
      "execution_count": 0,
      "outputs": [
        {
          "output_type": "stream",
          "text": [
            "[2 1 3 4]\n",
            "[2 1 3 4]\n"
          ],
          "name": "stdout"
        }
      ]
    },
    {
      "metadata": {
        "id": "7cXZQXMfuW6A",
        "colab_type": "text"
      },
      "cell_type": "markdown",
      "source": [
        "Shuffling step + Validation set\n",
        "--------------------\n",
        "Creating Validation and Test set from the data (Not k-fold iteration kind of validation)\n",
        "\n",
        "Actually going to ignore this valid set section for now since keras has a way to set the percentage of a validation set..."
      ]
    },
    {
      "metadata": {
        "id": "7FfFSwdauC1z",
        "colab_type": "code",
        "colab": {}
      },
      "cell_type": "code",
      "source": [
        "#Shuffling array\n",
        "random_train_images, random_train_labels = unison_shuffled_copies(train_images, train_labels)\n",
        "#valid_set = [(random_train_images"
      ],
      "execution_count": 0,
      "outputs": []
    },
    {
      "metadata": {
        "id": "tZB6VOq2zitf",
        "colab_type": "text"
      },
      "cell_type": "markdown",
      "source": [
        "Network Architecture 1\n",
        "----------------------------\n",
        "Just going to have about 4 convolutional layers and do four max pools\n",
        "\n",
        "Basic architecture"
      ]
    },
    {
      "metadata": {
        "id": "Z2vVDZNgziYZ",
        "colab_type": "code",
        "outputId": "63ca7751-f59a-4fe2-ecb4-7fa12fcae945",
        "colab": {
          "base_uri": "https://localhost:8080/",
          "height": 455
        }
      },
      "cell_type": "code",
      "source": [
        "from keras import models\n",
        "from keras import layers\n",
        "\n",
        "model_one = models.Sequential()\n",
        "model_one.add(layers.Conv2D(32, (3, 3), activation='relu', input_shape=(32, 32, 3), data_format=\"channels_last\"))\n",
        "#model_one.add(layers.MaxPooling2D((2, 2)))\n",
        "model_one.add(layers.Conv2D(64, (3, 3), activation='relu'))\n",
        "#model_one.add(layers.MaxPooling2D(2, 2))\n",
        "model_one.add(layers.Conv2D(64, (3, 3), activation='relu'))\n",
        "model_one.add(layers.Flatten())\n",
        "model_one.add(layers.Dense(64, activation='relu'))\n",
        "model_one.add(layers.Dense(10, activation='softmax'))\n",
        "model_one.summary()"
      ],
      "execution_count": 2,
      "outputs": [
        {
          "output_type": "stream",
          "text": [
            "Using TensorFlow backend.\n"
          ],
          "name": "stderr"
        },
        {
          "output_type": "stream",
          "text": [
            "WARNING:tensorflow:From /usr/local/lib/python3.6/dist-packages/tensorflow/python/framework/op_def_library.py:263: colocate_with (from tensorflow.python.framework.ops) is deprecated and will be removed in a future version.\n",
            "Instructions for updating:\n",
            "Colocations handled automatically by placer.\n",
            "_________________________________________________________________\n",
            "Layer (type)                 Output Shape              Param #   \n",
            "=================================================================\n",
            "conv2d_1 (Conv2D)            (None, 30, 30, 32)        896       \n",
            "_________________________________________________________________\n",
            "conv2d_2 (Conv2D)            (None, 28, 28, 64)        18496     \n",
            "_________________________________________________________________\n",
            "conv2d_3 (Conv2D)            (None, 26, 26, 64)        36928     \n",
            "_________________________________________________________________\n",
            "flatten_1 (Flatten)          (None, 43264)             0         \n",
            "_________________________________________________________________\n",
            "dense_1 (Dense)              (None, 64)                2768960   \n",
            "_________________________________________________________________\n",
            "dense_2 (Dense)              (None, 10)                650       \n",
            "=================================================================\n",
            "Total params: 2,825,930\n",
            "Trainable params: 2,825,930\n",
            "Non-trainable params: 0\n",
            "_________________________________________________________________\n"
          ],
          "name": "stdout"
        }
      ]
    },
    {
      "metadata": {
        "id": "-lTY6U_NA_N6",
        "colab_type": "text"
      },
      "cell_type": "markdown",
      "source": [
        "Network Architecture 2\n",
        "---------------------------\n",
        "Now with maxpooling!"
      ]
    },
    {
      "metadata": {
        "id": "0FTduNm3A-kJ",
        "colab_type": "code",
        "outputId": "ee49286d-c3b2-45bb-bae2-30b35f1c16b6",
        "colab": {
          "base_uri": "https://localhost:8080/",
          "height": 472
        }
      },
      "cell_type": "code",
      "source": [
        "model_two = models.Sequential()\n",
        "model_two.add(layers.Conv2D(16, (3, 3), activation='relu', input_shape=(32, 32, 3), data_format=\"channels_last\"))\n",
        "model_two.add(layers.MaxPooling2D((2, 2)))\n",
        "model_two.add(layers.Conv2D(32, (3, 3), activation='relu'))\n",
        "model_two.add(layers.MaxPooling2D(2, 2))\n",
        "model_two.add(layers.Conv2D(32, (3, 3), activation='relu'))\n",
        "model_two.add(layers.MaxPooling2D(2, 2))\n",
        "model_two.add(layers.Flatten())\n",
        "model_two.add(layers.Dense(64, activation='relu'))\n",
        "model_two.add(layers.Dense(10, activation='softmax'))\n",
        "model_two.summary()"
      ],
      "execution_count": 29,
      "outputs": [
        {
          "output_type": "stream",
          "text": [
            "_________________________________________________________________\n",
            "Layer (type)                 Output Shape              Param #   \n",
            "=================================================================\n",
            "conv2d_19 (Conv2D)           (None, 30, 30, 16)        448       \n",
            "_________________________________________________________________\n",
            "max_pooling2d_16 (MaxPooling (None, 15, 15, 16)        0         \n",
            "_________________________________________________________________\n",
            "conv2d_20 (Conv2D)           (None, 13, 13, 32)        4640      \n",
            "_________________________________________________________________\n",
            "max_pooling2d_17 (MaxPooling (None, 6, 6, 32)          0         \n",
            "_________________________________________________________________\n",
            "conv2d_21 (Conv2D)           (None, 4, 4, 32)          9248      \n",
            "_________________________________________________________________\n",
            "max_pooling2d_18 (MaxPooling (None, 2, 2, 32)          0         \n",
            "_________________________________________________________________\n",
            "flatten_7 (Flatten)          (None, 128)               0         \n",
            "_________________________________________________________________\n",
            "dense_13 (Dense)             (None, 64)                8256      \n",
            "_________________________________________________________________\n",
            "dense_14 (Dense)             (None, 10)                650       \n",
            "=================================================================\n",
            "Total params: 23,242\n",
            "Trainable params: 23,242\n",
            "Non-trainable params: 0\n",
            "_________________________________________________________________\n"
          ],
          "name": "stdout"
        }
      ]
    },
    {
      "metadata": {
        "id": "EZ8_TJGIDmza",
        "colab_type": "text"
      },
      "cell_type": "markdown",
      "source": [
        "Network Architecture 3, 4, 5, 6\n",
        "-----------------------------\n",
        "Just kinda messing around with different layers and pooling and the epochs should be 5 for each"
      ]
    },
    {
      "metadata": {
        "id": "ifpfgpjNEGJc",
        "colab_type": "code",
        "outputId": "744d8127-3086-40dc-9f5c-d3229e6f49b0",
        "colab": {
          "base_uri": "https://localhost:8080/",
          "height": 472
        }
      },
      "cell_type": "code",
      "source": [
        "model_three = models.Sequential()\n",
        "#massive filter for the first layer\n",
        "model_three.add(layers.Conv2D(64, (9, 9), activation='relu', input_shape=(32, 32, 3), data_format=\"channels_last\"))\n",
        "model_three.add(layers.MaxPooling2D((2, 2)))\n",
        "model_three.add(layers.Conv2D(32, (3, 3), activation='relu'))\n",
        "model_three.add(layers.MaxPooling2D(2, 2))\n",
        "model_three.add(layers.Conv2D(32, (3, 3), activation='relu'))\n",
        "model_three.add(layers.MaxPooling2D(2, 2))\n",
        "model_three.add(layers.Flatten())\n",
        "model_three.add(layers.Dense(64, activation='relu'))\n",
        "model_three.add(layers.Dense(10, activation='softmax'))\n",
        "model_three.summary()"
      ],
      "execution_count": 5,
      "outputs": [
        {
          "output_type": "stream",
          "text": [
            "_________________________________________________________________\n",
            "Layer (type)                 Output Shape              Param #   \n",
            "=================================================================\n",
            "conv2d_7 (Conv2D)            (None, 24, 24, 64)        15616     \n",
            "_________________________________________________________________\n",
            "max_pooling2d_4 (MaxPooling2 (None, 12, 12, 64)        0         \n",
            "_________________________________________________________________\n",
            "conv2d_8 (Conv2D)            (None, 10, 10, 32)        18464     \n",
            "_________________________________________________________________\n",
            "max_pooling2d_5 (MaxPooling2 (None, 5, 5, 32)          0         \n",
            "_________________________________________________________________\n",
            "conv2d_9 (Conv2D)            (None, 3, 3, 32)          9248      \n",
            "_________________________________________________________________\n",
            "max_pooling2d_6 (MaxPooling2 (None, 1, 1, 32)          0         \n",
            "_________________________________________________________________\n",
            "flatten_3 (Flatten)          (None, 32)                0         \n",
            "_________________________________________________________________\n",
            "dense_5 (Dense)              (None, 64)                2112      \n",
            "_________________________________________________________________\n",
            "dense_6 (Dense)              (None, 10)                650       \n",
            "=================================================================\n",
            "Total params: 46,090\n",
            "Trainable params: 46,090\n",
            "Non-trainable params: 0\n",
            "_________________________________________________________________\n"
          ],
          "name": "stdout"
        }
      ]
    },
    {
      "metadata": {
        "id": "eQzK0r0ME9Q4",
        "colab_type": "code",
        "outputId": "b4eeb405-2931-4fad-b98e-f244d62c5869",
        "colab": {
          "base_uri": "https://localhost:8080/",
          "height": 472
        }
      },
      "cell_type": "code",
      "source": [
        "model_four = models.Sequential()\n",
        "model_four.add(layers.Conv2D(128, (9, 9), activation='relu', input_shape=(32, 32, 3), data_format=\"channels_last\"))\n",
        "model_four.add(layers.MaxPooling2D((2, 2)))\n",
        "model_four.add(layers.Conv2D(32, (3, 3), activation='relu'))\n",
        "model_four.add(layers.MaxPooling2D(2, 2))\n",
        "model_four.add(layers.Conv2D(32, (3, 3), activation='relu'))\n",
        "model_four.add(layers.MaxPooling2D(2, 2))\n",
        "model_four.add(layers.Flatten())\n",
        "model_four.add(layers.Dense(64, activation='relu'))\n",
        "model_four.add(layers.Dense(10, activation='softmax'))\n",
        "model_four.summary()"
      ],
      "execution_count": 6,
      "outputs": [
        {
          "output_type": "stream",
          "text": [
            "_________________________________________________________________\n",
            "Layer (type)                 Output Shape              Param #   \n",
            "=================================================================\n",
            "conv2d_10 (Conv2D)           (None, 24, 24, 128)       31232     \n",
            "_________________________________________________________________\n",
            "max_pooling2d_7 (MaxPooling2 (None, 12, 12, 128)       0         \n",
            "_________________________________________________________________\n",
            "conv2d_11 (Conv2D)           (None, 10, 10, 32)        36896     \n",
            "_________________________________________________________________\n",
            "max_pooling2d_8 (MaxPooling2 (None, 5, 5, 32)          0         \n",
            "_________________________________________________________________\n",
            "conv2d_12 (Conv2D)           (None, 3, 3, 32)          9248      \n",
            "_________________________________________________________________\n",
            "max_pooling2d_9 (MaxPooling2 (None, 1, 1, 32)          0         \n",
            "_________________________________________________________________\n",
            "flatten_4 (Flatten)          (None, 32)                0         \n",
            "_________________________________________________________________\n",
            "dense_7 (Dense)              (None, 64)                2112      \n",
            "_________________________________________________________________\n",
            "dense_8 (Dense)              (None, 10)                650       \n",
            "=================================================================\n",
            "Total params: 80,138\n",
            "Trainable params: 80,138\n",
            "Non-trainable params: 0\n",
            "_________________________________________________________________\n"
          ],
          "name": "stdout"
        }
      ]
    },
    {
      "metadata": {
        "id": "2XQXK0HhE721",
        "colab_type": "code",
        "colab": {
          "base_uri": "https://localhost:8080/",
          "height": 581
        },
        "outputId": "842a2fc0-a56c-415c-df25-246345530a5a"
      },
      "cell_type": "code",
      "source": [
        "# Hashtag dropout\n",
        "model_five = models.Sequential()\n",
        "model_five.add(layers.Conv2D(32, (3, 3), activation='relu', input_shape=(32, 32, 3), data_format=\"channels_last\"))\n",
        "model_five.add(layers.MaxPooling2D((2, 2)))\n",
        "model_five.add(layers.Dropout(0.25))\n",
        "model_five.add(layers.Conv2D(32, (3, 3), activation='relu'))\n",
        "model_five.add(layers.MaxPooling2D(2, 2))\n",
        "model_five.add(layers.Dropout(0.25))\n",
        "model_five.add(layers.Conv2D(32, (3, 3), activation='relu'))\n",
        "model_five.add(layers.MaxPooling2D(2, 2))\n",
        "model_five.add(layers.Dropout(0.25))\n",
        "model_five.add(layers.Flatten())\n",
        "model_five.add(layers.Dense(64, activation='relu'))\n",
        "model_five.add(layers.Dense(10, activation='softmax'))\n",
        "model_five.summary()"
      ],
      "execution_count": 7,
      "outputs": [
        {
          "output_type": "stream",
          "text": [
            "_________________________________________________________________\n",
            "Layer (type)                 Output Shape              Param #   \n",
            "=================================================================\n",
            "conv2d_13 (Conv2D)           (None, 30, 30, 32)        896       \n",
            "_________________________________________________________________\n",
            "max_pooling2d_10 (MaxPooling (None, 15, 15, 32)        0         \n",
            "_________________________________________________________________\n",
            "dropout_4 (Dropout)          (None, 15, 15, 32)        0         \n",
            "_________________________________________________________________\n",
            "conv2d_14 (Conv2D)           (None, 13, 13, 32)        9248      \n",
            "_________________________________________________________________\n",
            "max_pooling2d_11 (MaxPooling (None, 6, 6, 32)          0         \n",
            "_________________________________________________________________\n",
            "dropout_5 (Dropout)          (None, 6, 6, 32)          0         \n",
            "_________________________________________________________________\n",
            "conv2d_15 (Conv2D)           (None, 4, 4, 32)          9248      \n",
            "_________________________________________________________________\n",
            "max_pooling2d_12 (MaxPooling (None, 2, 2, 32)          0         \n",
            "_________________________________________________________________\n",
            "dropout_6 (Dropout)          (None, 2, 2, 32)          0         \n",
            "_________________________________________________________________\n",
            "flatten_5 (Flatten)          (None, 128)               0         \n",
            "_________________________________________________________________\n",
            "dense_9 (Dense)              (None, 64)                8256      \n",
            "_________________________________________________________________\n",
            "dense_10 (Dense)             (None, 10)                650       \n",
            "=================================================================\n",
            "Total params: 28,298\n",
            "Trainable params: 28,298\n",
            "Non-trainable params: 0\n",
            "_________________________________________________________________\n"
          ],
          "name": "stdout"
        }
      ]
    },
    {
      "metadata": {
        "id": "kQgKjW91E6Cq",
        "colab_type": "code",
        "colab": {
          "base_uri": "https://localhost:8080/",
          "height": 472
        },
        "outputId": "734a13de-dde0-462a-a74a-559cbc81cbcc"
      },
      "cell_type": "code",
      "source": [
        "model_six = models.Sequential()\n",
        "model_six.add(layers.Conv2D(16, (3, 3), activation='relu', input_shape=(32, 32, 3), data_format=\"channels_last\"))\n",
        "model_six.add(layers.MaxPooling2D((2, 2)))\n",
        "model_six.add(layers.Conv2D(32, (3, 3), activation='relu'))\n",
        "model_six.add(layers.MaxPooling2D(2, 2))\n",
        "model_six.add(layers.Conv2D(32, (3, 3), activation='relu'))\n",
        "model_six.add(layers.MaxPooling2D(2, 2))\n",
        "model_six.add(layers.Flatten())\n",
        "model_six.add(layers.Dense(64, activation='relu'))\n",
        "model_six.add(layers.Dense(10, activation='softmax'))\n",
        "model_six.summary()"
      ],
      "execution_count": 19,
      "outputs": [
        {
          "output_type": "stream",
          "text": [
            "_________________________________________________________________\n",
            "Layer (type)                 Output Shape              Param #   \n",
            "=================================================================\n",
            "conv2d_16 (Conv2D)           (None, 30, 30, 16)        448       \n",
            "_________________________________________________________________\n",
            "max_pooling2d_13 (MaxPooling (None, 15, 15, 16)        0         \n",
            "_________________________________________________________________\n",
            "conv2d_17 (Conv2D)           (None, 13, 13, 32)        4640      \n",
            "_________________________________________________________________\n",
            "max_pooling2d_14 (MaxPooling (None, 6, 6, 32)          0         \n",
            "_________________________________________________________________\n",
            "conv2d_18 (Conv2D)           (None, 4, 4, 32)          9248      \n",
            "_________________________________________________________________\n",
            "max_pooling2d_15 (MaxPooling (None, 2, 2, 32)          0         \n",
            "_________________________________________________________________\n",
            "flatten_6 (Flatten)          (None, 128)               0         \n",
            "_________________________________________________________________\n",
            "dense_11 (Dense)             (None, 64)                8256      \n",
            "_________________________________________________________________\n",
            "dense_12 (Dense)             (None, 10)                650       \n",
            "=================================================================\n",
            "Total params: 23,242\n",
            "Trainable params: 23,242\n",
            "Non-trainable params: 0\n",
            "_________________________________________________________________\n"
          ],
          "name": "stdout"
        }
      ]
    },
    {
      "metadata": {
        "id": "NR3b80nz2dxD",
        "colab_type": "text"
      },
      "cell_type": "markdown",
      "source": [
        "Compilation\n",
        "------------------------------"
      ]
    },
    {
      "metadata": {
        "id": "FU6ZLBz62Ynw",
        "colab_type": "code",
        "colab": {}
      },
      "cell_type": "code",
      "source": [
        "model_one.compile(optimizer='rmsprop', \n",
        "              loss='categorical_crossentropy', \n",
        "              metrics=['accuracy'])"
      ],
      "execution_count": 0,
      "outputs": []
    },
    {
      "metadata": {
        "id": "Brfh48njA21f",
        "colab_type": "code",
        "colab": {}
      },
      "cell_type": "code",
      "source": [
        "model_two.compile(optimizer='rmsprop', \n",
        "              loss='categorical_crossentropy', \n",
        "              metrics=['accuracy'])"
      ],
      "execution_count": 0,
      "outputs": []
    },
    {
      "metadata": {
        "id": "ozMC0u3eHEvg",
        "colab_type": "code",
        "colab": {}
      },
      "cell_type": "code",
      "source": [
        "model_three.compile(optimizer='rmsprop', \n",
        "              loss='categorical_crossentropy', \n",
        "              metrics=['accuracy'])"
      ],
      "execution_count": 0,
      "outputs": []
    },
    {
      "metadata": {
        "id": "GA8YSlWdJrBZ",
        "colab_type": "code",
        "colab": {}
      },
      "cell_type": "code",
      "source": [
        "model_four.compile(optimizer='rmsprop', \n",
        "              loss='categorical_crossentropy', \n",
        "              metrics=['accuracy'])"
      ],
      "execution_count": 0,
      "outputs": []
    },
    {
      "metadata": {
        "id": "z4_sRSHeJrqC",
        "colab_type": "code",
        "colab": {}
      },
      "cell_type": "code",
      "source": [
        "model_five.compile(optimizer='rmsprop', \n",
        "              loss='categorical_crossentropy', \n",
        "              metrics=['accuracy'])"
      ],
      "execution_count": 0,
      "outputs": []
    },
    {
      "metadata": {
        "id": "xkgTfGkdJr4j",
        "colab_type": "code",
        "colab": {}
      },
      "cell_type": "code",
      "source": [
        "model_six.compile(optimizer='rmsprop', \n",
        "              loss='categorical_crossentropy', \n",
        "              metrics=['accuracy'])"
      ],
      "execution_count": 0,
      "outputs": []
    },
    {
      "metadata": {
        "id": "kIOTUVsr2g2T",
        "colab_type": "text"
      },
      "cell_type": "markdown",
      "source": [
        "Training without k-fold\n",
        "----------------------------"
      ]
    },
    {
      "metadata": {
        "id": "BVlFaKpE2gvW",
        "colab_type": "code",
        "outputId": "96f1649c-21c2-4a90-fda1-8639dfd66a48",
        "colab": {
          "base_uri": "https://localhost:8080/",
          "height": 217
        }
      },
      "cell_type": "code",
      "source": [
        "epochs = 5\n",
        "history_one = model_one.fit(train_images,\n",
        "                           train_labels,\n",
        "                           epochs=epochs,\n",
        "                           validation_split=0.2,\n",
        "                           batch_size=128)"
      ],
      "execution_count": 0,
      "outputs": [
        {
          "output_type": "stream",
          "text": [
            "Train on 40000 samples, validate on 10000 samples\n",
            "Epoch 1/5\n",
            "40000/40000 [==============================] - 390s 10ms/step - loss: 1.4529 - acc: 0.4867 - val_loss: 1.2170 - val_acc: 0.5673\n",
            "Epoch 2/5\n",
            "40000/40000 [==============================] - 372s 9ms/step - loss: 1.0914 - acc: 0.6191 - val_loss: 1.1139 - val_acc: 0.6097\n",
            "Epoch 3/5\n",
            "40000/40000 [==============================] - 369s 9ms/step - loss: 0.8519 - acc: 0.7058 - val_loss: 1.0577 - val_acc: 0.6443\n",
            "Epoch 4/5\n",
            "40000/40000 [==============================] - 367s 9ms/step - loss: 0.6471 - acc: 0.7780 - val_loss: 1.1251 - val_acc: 0.6357\n",
            "Epoch 5/5\n",
            "40000/40000 [==============================] - 369s 9ms/step - loss: 0.4483 - acc: 0.8474 - val_loss: 1.4075 - val_acc: 0.6073\n"
          ],
          "name": "stdout"
        }
      ]
    },
    {
      "metadata": {
        "id": "1nHHw6hyBp8i",
        "colab_type": "code",
        "colab": {}
      },
      "cell_type": "code",
      "source": [
        "epochs = 10\n",
        "history_two = model_two.fit(train_images,\n",
        "                           train_labels,\n",
        "                           epochs=epochs,\n",
        "                           validation_split=0.2,\n",
        "                           batch_size=128)"
      ],
      "execution_count": 0,
      "outputs": []
    },
    {
      "metadata": {
        "id": "_SBeq5yEC4-s",
        "colab_type": "code",
        "outputId": "c36adabd-82a0-4a9d-edff-8d6ad9cbdb86",
        "colab": {
          "base_uri": "https://localhost:8080/",
          "height": 92
        }
      },
      "cell_type": "code",
      "source": [
        "epochs_three = 20\n",
        "history_three = model_two.fit(train_images,\n",
        "                           train_labels,\n",
        "                           epochs=epochs_three,\n",
        "                           validation_split=0.2,\n",
        "                           batch_size=128)"
      ],
      "execution_count": 0,
      "outputs": [
        {
          "output_type": "stream",
          "text": [
            "Train on 40000 samples, validate on 10000 samples\n",
            "Epoch 1/20\n",
            " 8448/40000 [=====>........................] - ETA: 28s - loss: 2.1759 - acc: 0.1883"
          ],
          "name": "stdout"
        }
      ]
    },
    {
      "metadata": {
        "id": "CUx7JEBFHOx8",
        "colab_type": "code",
        "outputId": "5163b504-1818-4623-acb7-ec3e2cf09029",
        "colab": {
          "base_uri": "https://localhost:8080/",
          "height": 419
        }
      },
      "cell_type": "code",
      "source": [
        "epochs = 10\n",
        "history_four = model_three.fit(train_images,\n",
        "                           train_labels,\n",
        "                           epochs=epochs,\n",
        "                           validation_split=0.2,\n",
        "                           batch_size=128)"
      ],
      "execution_count": 27,
      "outputs": [
        {
          "output_type": "stream",
          "text": [
            "Train on 40000 samples, validate on 10000 samples\n",
            "Epoch 1/10\n",
            "40000/40000 [==============================] - 113s 3ms/step - loss: 2.0609 - acc: 0.2370 - val_loss: 1.8274 - val_acc: 0.3323\n",
            "Epoch 2/10\n",
            "40000/40000 [==============================] - 112s 3ms/step - loss: 1.7647 - acc: 0.3618 - val_loss: 1.7181 - val_acc: 0.3818\n",
            "Epoch 3/10\n",
            "40000/40000 [==============================] - 113s 3ms/step - loss: 1.6309 - acc: 0.4145 - val_loss: 1.6712 - val_acc: 0.3938\n",
            "Epoch 4/10\n",
            "40000/40000 [==============================] - 113s 3ms/step - loss: 1.5519 - acc: 0.4437 - val_loss: 1.5865 - val_acc: 0.4328\n",
            "Epoch 5/10\n",
            "40000/40000 [==============================] - 112s 3ms/step - loss: 1.4898 - acc: 0.4681 - val_loss: 1.4922 - val_acc: 0.4681\n",
            "Epoch 6/10\n",
            "40000/40000 [==============================] - 112s 3ms/step - loss: 1.4416 - acc: 0.4866 - val_loss: 1.6095 - val_acc: 0.4360\n",
            "Epoch 7/10\n",
            "40000/40000 [==============================] - 112s 3ms/step - loss: 1.3986 - acc: 0.5018 - val_loss: 1.5364 - val_acc: 0.4595\n",
            "Epoch 8/10\n",
            "40000/40000 [==============================] - 112s 3ms/step - loss: 1.3591 - acc: 0.5158 - val_loss: 1.4048 - val_acc: 0.4946\n",
            "Epoch 9/10\n",
            "40000/40000 [==============================] - 112s 3ms/step - loss: 1.3299 - acc: 0.5278 - val_loss: 1.3644 - val_acc: 0.5081\n",
            "Epoch 10/10\n",
            "40000/40000 [==============================] - 112s 3ms/step - loss: 1.2985 - acc: 0.5403 - val_loss: 1.3534 - val_acc: 0.5188\n"
          ],
          "name": "stdout"
        }
      ]
    },
    {
      "metadata": {
        "id": "JL0Jd_auJ2Wf",
        "colab_type": "code",
        "colab": {
          "base_uri": "https://localhost:8080/",
          "height": 419
        },
        "outputId": "6e1723f3-e717-4185-b84e-c24b50e12f6e"
      },
      "cell_type": "code",
      "source": [
        "epochs = 10\n",
        "history_five = model_four.fit(train_images,\n",
        "                           train_labels,\n",
        "                           epochs=epochs,\n",
        "                           validation_split=0.2,\n",
        "                           batch_size=128)"
      ],
      "execution_count": 23,
      "outputs": [
        {
          "output_type": "stream",
          "text": [
            "Train on 40000 samples, validate on 10000 samples\n",
            "Epoch 1/10\n",
            "40000/40000 [==============================] - 167s 4ms/step - loss: 2.0393 - acc: 0.2448 - val_loss: 1.8134 - val_acc: 0.3281\n",
            "Epoch 2/10\n",
            "40000/40000 [==============================] - 166s 4ms/step - loss: 1.7590 - acc: 0.3637 - val_loss: 1.6838 - val_acc: 0.3841\n",
            "Epoch 3/10\n",
            "40000/40000 [==============================] - 166s 4ms/step - loss: 1.6300 - acc: 0.4147 - val_loss: 1.6129 - val_acc: 0.4077\n",
            "Epoch 4/10\n",
            "40000/40000 [==============================] - 167s 4ms/step - loss: 1.5577 - acc: 0.4416 - val_loss: 1.4995 - val_acc: 0.4646\n",
            "Epoch 5/10\n",
            "40000/40000 [==============================] - 166s 4ms/step - loss: 1.4976 - acc: 0.4652 - val_loss: 1.5191 - val_acc: 0.4479\n",
            "Epoch 6/10\n",
            "40000/40000 [==============================] - 166s 4ms/step - loss: 1.4476 - acc: 0.4838 - val_loss: 1.5048 - val_acc: 0.4635\n",
            "Epoch 7/10\n",
            "40000/40000 [==============================] - 166s 4ms/step - loss: 1.4019 - acc: 0.4991 - val_loss: 1.5139 - val_acc: 0.4630\n",
            "Epoch 8/10\n",
            "40000/40000 [==============================] - 166s 4ms/step - loss: 1.3654 - acc: 0.5121 - val_loss: 1.4131 - val_acc: 0.5015\n",
            "Epoch 9/10\n",
            "40000/40000 [==============================] - 166s 4ms/step - loss: 1.3288 - acc: 0.5273 - val_loss: 1.4421 - val_acc: 0.5052\n",
            "Epoch 10/10\n",
            "40000/40000 [==============================] - 166s 4ms/step - loss: 1.2981 - acc: 0.5366 - val_loss: 1.4690 - val_acc: 0.4934\n"
          ],
          "name": "stdout"
        }
      ]
    },
    {
      "metadata": {
        "id": "5FZN3bEXJ95-",
        "colab_type": "code",
        "colab": {
          "base_uri": "https://localhost:8080/",
          "height": 419
        },
        "outputId": "96e44da6-2a83-40f4-95dc-d7c9214163f4"
      },
      "cell_type": "code",
      "source": [
        "epochs = 10\n",
        "history_six = model_five.fit(train_images,\n",
        "                           train_labels,\n",
        "                           epochs=epochs,\n",
        "                           validation_split=0.2,\n",
        "                           batch_size=128)"
      ],
      "execution_count": 22,
      "outputs": [
        {
          "output_type": "stream",
          "text": [
            "Train on 40000 samples, validate on 10000 samples\n",
            "Epoch 1/10\n",
            "40000/40000 [==============================] - 58s 1ms/step - loss: 1.4029 - acc: 0.4945 - val_loss: 1.3330 - val_acc: 0.5271\n",
            "Epoch 2/10\n",
            "40000/40000 [==============================] - 58s 1ms/step - loss: 1.3614 - acc: 0.5130 - val_loss: 1.2849 - val_acc: 0.5496\n",
            "Epoch 3/10\n",
            "40000/40000 [==============================] - 58s 1ms/step - loss: 1.3285 - acc: 0.5225 - val_loss: 1.2599 - val_acc: 0.5559\n",
            "Epoch 4/10\n",
            "40000/40000 [==============================] - 58s 1ms/step - loss: 1.3055 - acc: 0.5334 - val_loss: 1.2850 - val_acc: 0.5366\n",
            "Epoch 5/10\n",
            "40000/40000 [==============================] - 58s 1ms/step - loss: 1.2789 - acc: 0.5442 - val_loss: 1.1756 - val_acc: 0.5897\n",
            "Epoch 6/10\n",
            "40000/40000 [==============================] - 58s 1ms/step - loss: 1.2567 - acc: 0.5495 - val_loss: 1.1696 - val_acc: 0.5839\n",
            "Epoch 7/10\n",
            "40000/40000 [==============================] - 58s 1ms/step - loss: 1.2355 - acc: 0.5578 - val_loss: 1.1976 - val_acc: 0.5747\n",
            "Epoch 8/10\n",
            "40000/40000 [==============================] - 58s 1ms/step - loss: 1.2201 - acc: 0.5638 - val_loss: 1.1713 - val_acc: 0.5868\n",
            "Epoch 9/10\n",
            "40000/40000 [==============================] - 58s 1ms/step - loss: 1.2045 - acc: 0.5720 - val_loss: 1.2196 - val_acc: 0.5694\n",
            "Epoch 10/10\n",
            "40000/40000 [==============================] - 58s 1ms/step - loss: 1.1899 - acc: 0.5748 - val_loss: 1.0776 - val_acc: 0.6239\n"
          ],
          "name": "stdout"
        }
      ]
    },
    {
      "metadata": {
        "id": "UjuNpmkW3b66",
        "colab_type": "text"
      },
      "cell_type": "markdown",
      "source": [
        "Graphs\n",
        "--------------"
      ]
    },
    {
      "metadata": {
        "id": "g3z_35FR3eDB",
        "colab_type": "code",
        "colab": {}
      },
      "cell_type": "code",
      "source": [
        "import matplotlib.pyplot as plt\n",
        "\n",
        "history_dict_one = history_one.history\n",
        "loss_values_one = history_dict_one['loss']\n",
        "test_loss_values_one = history_dict_one['val_loss']\n",
        "epochs_range_one = range(1, epochs + 1)"
      ],
      "execution_count": 0,
      "outputs": []
    },
    {
      "metadata": {
        "id": "L1xVKaaV-cAd",
        "colab_type": "code",
        "outputId": "6a3a232b-800f-490a-9bc0-7081c205236a",
        "colab": {
          "base_uri": "https://localhost:8080/",
          "height": 376
        }
      },
      "cell_type": "code",
      "source": [
        "acc_values_one = history_dict_one['acc']\n",
        "test_acc_values_one = history_dict_one['val_acc']\n",
        "\n",
        "plt.plot(epochs_range_one, acc_values_one, 'bo', label='Training accuracy')\n",
        "plt.plot(epochs_range_one, test_acc_values_one, 'ro', label='Test accuracy')\n",
        "plt.title('Training and test accuracy')\n",
        "plt.xlabel('Epochs')\n",
        "plt.ylabel('Accuracy')\n",
        "plt.legend()\n",
        "plt.show()"
      ],
      "execution_count": 0,
      "outputs": [
        {
          "output_type": "display_data",
          "data": {
            "image/png": "[encoded data removed]",
            "text/plain": [
              "<Figure size 576x396 with 1 Axes>"
            ]
          },
          "metadata": {
            "tags": []
          }
        }
      ]
    },
    {
      "metadata": {
        "id": "3TkQn6aa_2r6",
        "colab_type": "text"
      },
      "cell_type": "markdown",
      "source": [
        "Does well on the validation set, but the test accuracy starts to fall with later epochs.\n",
        "\n",
        "Model with only a filter and no maxpooling performs very slowly and poorly"
      ]
    },
    {
      "metadata": {
        "id": "Oa2It3gqOcIf",
        "colab_type": "code",
        "colab": {}
      },
      "cell_type": "code",
      "source": [
        "history_dict = history_two.history\n",
        "loss_values = history_dict['loss']\n",
        "test_loss_values = history_dict['val_loss']\n",
        "epochs_range = range(1, epochs + 1)\n",
        "\n",
        "acc_values = history_dict['acc']\n",
        "test_acc_values = history_dict['val_acc']\n",
        "\n",
        "plt.plot(epochs_range, acc_values, 'bo', label='Training accuracy')\n",
        "plt.plot(epochs_range, test_acc_values, 'ro', label='Test accuracy')\n",
        "plt.title('Training and test accuracy')\n",
        "plt.xlabel('Epochs')\n",
        "plt.ylabel('Accuracy')\n",
        "plt.legend()\n",
        "plt.show()"
      ],
      "execution_count": 0,
      "outputs": []
    },
    {
      "metadata": {
        "id": "E72N9RrnOtIz",
        "colab_type": "code",
        "colab": {}
      },
      "cell_type": "code",
      "source": [
        "history_dict = history_three.history\n",
        "loss_values = history_dict['loss']\n",
        "test_loss_values = history_dict['val_loss']\n",
        "epochs_range = range(1, epochs + 1)\n",
        "\n",
        "acc_values = history_dict['acc']\n",
        "test_acc_values = history_dict['val_acc']\n",
        "\n",
        "plt.plot(epochs_range, acc_values, 'bo', label='Training accuracy')\n",
        "plt.plot(epochs_range, test_acc_values, 'ro', label='Test accuracy')\n",
        "plt.title('Training and test accuracy')\n",
        "plt.xlabel('Epochs')\n",
        "plt.ylabel('Accuracy')\n",
        "plt.legend()\n",
        "plt.show()"
      ],
      "execution_count": 0,
      "outputs": []
    },
    {
      "metadata": {
        "id": "pni4rYhkOur4",
        "colab_type": "code",
        "colab": {}
      },
      "cell_type": "code",
      "source": [
        "history_dict = history_four.history\n",
        "loss_values = history_dict['loss']\n",
        "test_loss_values = history_dict['val_loss']\n",
        "epochs_range = range(1, epochs + 1)\n",
        "\n",
        "acc_values = history_dict['acc']\n",
        "test_acc_values = history_dict['val_acc']\n",
        "\n",
        "plt.plot(epochs_range, acc_values, 'bo', label='Training accuracy')\n",
        "plt.plot(epochs_range, test_acc_values, 'ro', label='Test accuracy')\n",
        "plt.title('Training and test accuracy')\n",
        "plt.xlabel('Epochs')\n",
        "plt.ylabel('Accuracy')\n",
        "plt.legend()\n",
        "plt.show()"
      ],
      "execution_count": 0,
      "outputs": []
    },
    {
      "metadata": {
        "id": "uDxHiXKLOwtT",
        "colab_type": "code",
        "colab": {}
      },
      "cell_type": "code",
      "source": [
        "history_dict = history_five.history\n",
        "loss_values = history_dict['loss']\n",
        "test_loss_values = history_dict['val_loss']\n",
        "epochs_range = range(1, epochs + 1)\n",
        "\n",
        "acc_values = history_dict['acc']\n",
        "test_acc_values = history_dict['val_acc']\n",
        "\n",
        "plt.plot(epochs_range, acc_values, 'bo', label='Training accuracy')\n",
        "plt.plot(epochs_range, test_acc_values, 'ro', label='Test accuracy')\n",
        "plt.title('Training and test accuracy')\n",
        "plt.xlabel('Epochs')\n",
        "plt.ylabel('Accuracy')\n",
        "plt.legend()\n",
        "plt.show()"
      ],
      "execution_count": 0,
      "outputs": []
    },
    {
      "metadata": {
        "id": "BavA8yFKOyyW",
        "colab_type": "code",
        "colab": {}
      },
      "cell_type": "code",
      "source": [
        "history_dict = history_six.history\n",
        "loss_values = history_dict['loss']\n",
        "test_loss_values = history_dict['val_loss']\n",
        "epochs_range = range(1, epochs + 1)\n",
        "\n",
        "acc_values = history_dict['acc']\n",
        "test_acc_values = history_dict['val_acc']\n",
        "\n",
        "plt.plot(epochs_range, acc_values, 'bo', label='Training accuracy')\n",
        "plt.plot(epochs_range, test_acc_values, 'ro', label='Test accuracy')\n",
        "plt.title('Training and test accuracy')\n",
        "plt.xlabel('Epochs')\n",
        "plt.ylabel('Accuracy')\n",
        "plt.legend()\n",
        "plt.show()"
      ],
      "execution_count": 0,
      "outputs": []
    }
  ]
}