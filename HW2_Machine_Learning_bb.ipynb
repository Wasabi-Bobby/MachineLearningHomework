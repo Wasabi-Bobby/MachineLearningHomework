{
  "nbformat": 4,
  "nbformat_minor": 0,
  "metadata": {
    "colab": {
      "name": "HW2 Machine Learning bb.ipynb",
      "version": "0.3.2",
      "provenance": [],
      "include_colab_link": true
    },
    "kernelspec": {
      "name": "python3",
      "display_name": "Python 3"
    }
  },
  "cells": [
    {
      "cell_type": "markdown",
      "metadata": {
        "id": "view-in-github",
        "colab_type": "text"
      },
      "source": [
        "<a href=\"https://colab.research.google.com/github/Wasabi-Bobby/MachineLearningHomework/blob/master/HW2_Machine_Learning_bb.ipynb\" target=\"_parent\"><img src=\"https://colab.research.google.com/assets/colab-badge.svg\" alt=\"Open In Colab\"/></a>"
      ]
    },
    {
      "metadata": {
        "id": "lVUScIxVfIBY",
        "colab_type": "code",
        "colab": {}
      },
      "cell_type": "code",
      "source": [
        "from keras.datasets import cifar10\n",
        "\n",
        "(train_images_original, train_labels_original), (test_images_original, test_labels_original) = cifar10.load_data()"
      ],
      "execution_count": 0,
      "outputs": []
    },
    {
      "metadata": {
        "id": "dJE3NKMcxD96",
        "colab_type": "text"
      },
      "cell_type": "markdown",
      "source": [
        "Preparing image and labels\n",
        "-------------\n",
        "\n"
      ]
    },
    {
      "metadata": {
        "id": "oxuHgrrRxxp_",
        "colab_type": "code",
        "colab": {
          "base_uri": "https://localhost:8080/",
          "height": 35
        },
        "outputId": "64b10ffa-29e2-4aa3-91f0-1b56c8007fb2"
      },
      "cell_type": "code",
      "source": [
        "train_images_original.shape"
      ],
      "execution_count": 21,
      "outputs": [
        {
          "output_type": "execute_result",
          "data": {
            "text/plain": [
              "(50000, 32, 32, 3)"
            ]
          },
          "metadata": {
            "tags": []
          },
          "execution_count": 21
        }
      ]
    },
    {
      "metadata": {
        "id": "smLtkeDax0Cw",
        "colab_type": "code",
        "colab": {
          "base_uri": "https://localhost:8080/",
          "height": 35
        },
        "outputId": "0c5bdeb0-744d-4c1d-b36e-9ef948bf1284"
      },
      "cell_type": "code",
      "source": [
        "test_images_original.shape"
      ],
      "execution_count": 23,
      "outputs": [
        {
          "output_type": "execute_result",
          "data": {
            "text/plain": [
              "(10000, 32, 32, 3)"
            ]
          },
          "metadata": {
            "tags": []
          },
          "execution_count": 23
        }
      ]
    },
    {
      "metadata": {
        "id": "-VQeFmzdxFnb",
        "colab_type": "code",
        "colab": {}
      },
      "cell_type": "code",
      "source": [
        "train_images = train_images_original.reshape((50000, 32, 32, 3))\n",
        "train_images = train_images.astype('float32') / 255\n",
        "\n",
        "test_images = test_images_original.reshape((10000, 32, 32, 3))\n",
        "test_images = test_images.astype('float32') / 255"
      ],
      "execution_count": 0,
      "outputs": []
    },
    {
      "metadata": {
        "id": "dfvzqV1kyCPc",
        "colab_type": "code",
        "colab": {}
      },
      "cell_type": "code",
      "source": [
        "from keras.utils import to_categorical\n",
        "\n",
        "train_labels = to_categorical(train_labels_original)\n",
        "test_labels = to_categorical(test_labels_original)"
      ],
      "execution_count": 0,
      "outputs": []
    },
    {
      "metadata": {
        "id": "LZpH3CBWvd2O",
        "colab_type": "text"
      },
      "cell_type": "markdown",
      "source": [
        "Some nice code snippet i found for shuffling two arrays on github. Link -> https://stackoverflow.com/questions/4601373/better-way-to-shuffle-two-numpy-arrays-in-unison"
      ]
    },
    {
      "metadata": {
        "id": "9ujASf_Jvmhm",
        "colab_type": "code",
        "colab": {}
      },
      "cell_type": "code",
      "source": [
        "import numpy as np\n",
        "def unison_shuffled_copies(a, b):\n",
        "    assert len(a) == len(b)\n",
        "    p = np.random.permutation(len(a))\n",
        "    return a[p], b[p]"
      ],
      "execution_count": 0,
      "outputs": []
    },
    {
      "metadata": {
        "id": "2szCyhA7v9uN",
        "colab_type": "text"
      },
      "cell_type": "markdown",
      "source": [
        "Testing this just in case\n",
        "----------------------------\n",
        "It works!"
      ]
    },
    {
      "metadata": {
        "id": "HetbbDSov_eu",
        "colab_type": "code",
        "colab": {
          "base_uri": "https://localhost:8080/",
          "height": 54
        },
        "outputId": "04e3af3d-9942-4c84-8717-9288b4f06908"
      },
      "cell_type": "code",
      "source": [
        "x = np.array([1,2,3,4])\n",
        "y = np.array([1,2,3,4])\n",
        "random_x, random_y = unison_shuffled_copies(x, y)\n",
        "print(random_x)\n",
        "print(random_y)"
      ],
      "execution_count": 12,
      "outputs": [
        {
          "output_type": "stream",
          "text": [
            "[2 1 3 4]\n",
            "[2 1 3 4]\n"
          ],
          "name": "stdout"
        }
      ]
    },
    {
      "metadata": {
        "id": "7cXZQXMfuW6A",
        "colab_type": "text"
      },
      "cell_type": "markdown",
      "source": [
        "Shuffling step + Validation set\n",
        "--------------------\n",
        "Creating Validation and Test set from the data (Not k-fold iteration kind of validation)\n",
        "\n",
        "Actually going to ignore this valid set section for now since keras has a way to set the percentage of a validation set..."
      ]
    },
    {
      "metadata": {
        "id": "7FfFSwdauC1z",
        "colab_type": "code",
        "colab": {}
      },
      "cell_type": "code",
      "source": [
        "#Shuffling array\n",
        "random_train_images, random_train_labels = unison_shuffled_copies(train_images, train_labels)\n",
        "#valid_set = [(random_train_images"
      ],
      "execution_count": 0,
      "outputs": []
    },
    {
      "metadata": {
        "id": "tZB6VOq2zitf",
        "colab_type": "text"
      },
      "cell_type": "markdown",
      "source": [
        "Network Architecture 1\n",
        "----------------------------\n",
        "Just going to have about 4 convolutional layers and do four max pools\n",
        "\n",
        "Basic architecture"
      ]
    },
    {
      "metadata": {
        "id": "Z2vVDZNgziYZ",
        "colab_type": "code",
        "colab": {
          "base_uri": "https://localhost:8080/",
          "height": 363
        },
        "outputId": "30f79aca-f166-4b4a-d2b4-b3192e46ad32"
      },
      "cell_type": "code",
      "source": [
        "from keras import models\n",
        "from keras import layers\n",
        "\n",
        "model_one = models.Sequential()\n",
        "model_one.add(layers.Conv2D(32, (3, 3), activation='relu', input_shape=(32, 32, 3), data_format=\"channels_last\"))\n",
        "#model_one.add(layers.MaxPooling2D((2, 2)))\n",
        "model_one.add(layers.Conv2D(64, (3, 3), activation='relu'))\n",
        "#model_one.add(layers.MaxPooling2D(2, 2))\n",
        "model_one.add(layers.Conv2D(64, (3, 3), activation='relu'))\n",
        "model_one.add(layers.Flatten())\n",
        "model_one.add(layers.Dense(64, activation='relu'))\n",
        "model_one.add(layers.Dense(10, activation='softmax'))\n",
        "model_one.summary()"
      ],
      "execution_count": 28,
      "outputs": [
        {
          "output_type": "stream",
          "text": [
            "_________________________________________________________________\n",
            "Layer (type)                 Output Shape              Param #   \n",
            "=================================================================\n",
            "conv2d_7 (Conv2D)            (None, 30, 30, 32)        896       \n",
            "_________________________________________________________________\n",
            "conv2d_8 (Conv2D)            (None, 28, 28, 64)        18496     \n",
            "_________________________________________________________________\n",
            "conv2d_9 (Conv2D)            (None, 26, 26, 64)        36928     \n",
            "_________________________________________________________________\n",
            "flatten_3 (Flatten)          (None, 43264)             0         \n",
            "_________________________________________________________________\n",
            "dense_5 (Dense)              (None, 64)                2768960   \n",
            "_________________________________________________________________\n",
            "dense_6 (Dense)              (None, 10)                650       \n",
            "=================================================================\n",
            "Total params: 2,825,930\n",
            "Trainable params: 2,825,930\n",
            "Non-trainable params: 0\n",
            "_________________________________________________________________\n"
          ],
          "name": "stdout"
        }
      ]
    },
    {
      "metadata": {
        "id": "-lTY6U_NA_N6",
        "colab_type": "text"
      },
      "cell_type": "markdown",
      "source": [
        "Network Architecture 2\n",
        "---------------------------\n",
        "Now with maxpooling!"
      ]
    },
    {
      "metadata": {
        "id": "0FTduNm3A-kJ",
        "colab_type": "code",
        "colab": {
          "base_uri": "https://localhost:8080/",
          "height": 472
        },
        "outputId": "1e5d75cc-22e0-482d-8bfa-a8e48f6e4758"
      },
      "cell_type": "code",
      "source": [
        "model_two = models.Sequential()\n",
        "model_two.add(layers.Conv2D(16, (3, 3), activation='relu', input_shape=(32, 32, 3), data_format=\"channels_last\"))\n",
        "model_two.add(layers.MaxPooling2D((2, 2)))\n",
        "model_two.add(layers.Conv2D(32, (3, 3), activation='relu'))\n",
        "model_two.add(layers.MaxPooling2D(2, 2))\n",
        "model_two.add(layers.Conv2D(32, (3, 3), activation='relu'))\n",
        "model_two.add(layers.MaxPooling2D(2, 2))\n",
        "model_two.add(layers.Flatten())\n",
        "model_two.add(layers.Dense(64, activation='relu'))\n",
        "model_two.add(layers.Dense(10, activation='softmax'))\n",
        "model_two.summary()"
      ],
      "execution_count": 55,
      "outputs": [
        {
          "output_type": "stream",
          "text": [
            "_________________________________________________________________\n",
            "Layer (type)                 Output Shape              Param #   \n",
            "=================================================================\n",
            "conv2d_34 (Conv2D)           (None, 30, 30, 16)        448       \n",
            "_________________________________________________________________\n",
            "max_pooling2d_22 (MaxPooling (None, 15, 15, 16)        0         \n",
            "_________________________________________________________________\n",
            "conv2d_35 (Conv2D)           (None, 13, 13, 32)        4640      \n",
            "_________________________________________________________________\n",
            "max_pooling2d_23 (MaxPooling (None, 6, 6, 32)          0         \n",
            "_________________________________________________________________\n",
            "conv2d_36 (Conv2D)           (None, 4, 4, 32)          9248      \n",
            "_________________________________________________________________\n",
            "max_pooling2d_24 (MaxPooling (None, 2, 2, 32)          0         \n",
            "_________________________________________________________________\n",
            "flatten_11 (Flatten)         (None, 128)               0         \n",
            "_________________________________________________________________\n",
            "dense_21 (Dense)             (None, 64)                8256      \n",
            "_________________________________________________________________\n",
            "dense_22 (Dense)             (None, 10)                650       \n",
            "=================================================================\n",
            "Total params: 23,242\n",
            "Trainable params: 23,242\n",
            "Non-trainable params: 0\n",
            "_________________________________________________________________\n"
          ],
          "name": "stdout"
        }
      ]
    },
    {
      "metadata": {
        "id": "EZ8_TJGIDmza",
        "colab_type": "text"
      },
      "cell_type": "markdown",
      "source": [
        "Network Architecture 3, 4, 5, 6\n",
        "-----------------------------\n",
        "Just kinda messing around with different layers and pooling and the epochs should be 5 for each"
      ]
    },
    {
      "metadata": {
        "id": "ifpfgpjNEGJc",
        "colab_type": "code",
        "colab": {
          "base_uri": "https://localhost:8080/",
          "height": 472
        },
        "outputId": "858d2bbf-3fed-4ae4-e949-b1040a238514"
      },
      "cell_type": "code",
      "source": [
        "model_three = models.Sequential()\n",
        "#massive filter for the first layer\n",
        "model_three.add(layers.Conv2D(64, (9, 9), activation='relu', input_shape=(32, 32, 3), data_format=\"channels_last\"))\n",
        "model_three.add(layers.MaxPooling2D((2, 2)))\n",
        "model_three.add(layers.Conv2D(32, (3, 3), activation='relu'))\n",
        "model_three.add(layers.MaxPooling2D(2, 2))\n",
        "model_three.add(layers.Conv2D(32, (3, 3), activation='relu'))\n",
        "model_three.add(layers.MaxPooling2D(2, 2))\n",
        "model_three.add(layers.Flatten())\n",
        "model_three.add(layers.Dense(64, activation='relu'))\n",
        "model_three.add(layers.Dense(10, activation='softmax'))\n",
        "model_three.summary()"
      ],
      "execution_count": 63,
      "outputs": [
        {
          "output_type": "stream",
          "text": [
            "_________________________________________________________________\n",
            "Layer (type)                 Output Shape              Param #   \n",
            "=================================================================\n",
            "conv2d_58 (Conv2D)           (None, 24, 24, 64)        15616     \n",
            "_________________________________________________________________\n",
            "max_pooling2d_43 (MaxPooling (None, 12, 12, 64)        0         \n",
            "_________________________________________________________________\n",
            "conv2d_59 (Conv2D)           (None, 10, 10, 32)        18464     \n",
            "_________________________________________________________________\n",
            "max_pooling2d_44 (MaxPooling (None, 5, 5, 32)          0         \n",
            "_________________________________________________________________\n",
            "conv2d_60 (Conv2D)           (None, 3, 3, 32)          9248      \n",
            "_________________________________________________________________\n",
            "max_pooling2d_45 (MaxPooling (None, 1, 1, 32)          0         \n",
            "_________________________________________________________________\n",
            "flatten_16 (Flatten)         (None, 32)                0         \n",
            "_________________________________________________________________\n",
            "dense_31 (Dense)             (None, 64)                2112      \n",
            "_________________________________________________________________\n",
            "dense_32 (Dense)             (None, 10)                650       \n",
            "=================================================================\n",
            "Total params: 46,090\n",
            "Trainable params: 46,090\n",
            "Non-trainable params: 0\n",
            "_________________________________________________________________\n"
          ],
          "name": "stdout"
        }
      ]
    },
    {
      "metadata": {
        "id": "eQzK0r0ME9Q4",
        "colab_type": "code",
        "colab": {
          "base_uri": "https://localhost:8080/",
          "height": 472
        },
        "outputId": "f2187dd5-0b9d-44d1-a618-f309a35133d9"
      },
      "cell_type": "code",
      "source": [
        "model_four = models.Sequential()\n",
        "model_four.add(layers.Conv2D(128, (9, 9), activation='relu', input_shape=(32, 32, 3), data_format=\"channels_last\"))\n",
        "model_four.add(layers.MaxPooling2D((2, 2)))\n",
        "model_four.add(layers.Conv2D(32, (3, 3), activation='relu'))\n",
        "model_four.add(layers.MaxPooling2D(2, 2))\n",
        "model_four.add(layers.Conv2D(32, (3, 3), activation='relu'))\n",
        "model_four.add(layers.MaxPooling2D(2, 2))\n",
        "model_four.add(layers.Flatten())\n",
        "model_four.add(layers.Dense(64, activation='relu'))\n",
        "model_four.add(layers.Dense(10, activation='softmax'))\n",
        "model_four.summary()"
      ],
      "execution_count": 58,
      "outputs": [
        {
          "output_type": "stream",
          "text": [
            "_________________________________________________________________\n",
            "Layer (type)                 Output Shape              Param #   \n",
            "=================================================================\n",
            "conv2d_43 (Conv2D)           (None, 24, 24, 128)       31232     \n",
            "_________________________________________________________________\n",
            "max_pooling2d_31 (MaxPooling (None, 12, 12, 128)       0         \n",
            "_________________________________________________________________\n",
            "conv2d_44 (Conv2D)           (None, 10, 10, 32)        36896     \n",
            "_________________________________________________________________\n",
            "max_pooling2d_32 (MaxPooling (None, 5, 5, 32)          0         \n",
            "_________________________________________________________________\n",
            "conv2d_45 (Conv2D)           (None, 3, 3, 32)          9248      \n",
            "_________________________________________________________________\n",
            "max_pooling2d_33 (MaxPooling (None, 1, 1, 32)          0         \n",
            "_________________________________________________________________\n",
            "flatten_14 (Flatten)         (None, 32)                0         \n",
            "_________________________________________________________________\n",
            "dense_27 (Dense)             (None, 64)                2112      \n",
            "_________________________________________________________________\n",
            "dense_28 (Dense)             (None, 10)                650       \n",
            "=================================================================\n",
            "Total params: 80,138\n",
            "Trainable params: 80,138\n",
            "Non-trainable params: 0\n",
            "_________________________________________________________________\n"
          ],
          "name": "stdout"
        }
      ]
    },
    {
      "metadata": {
        "id": "2XQXK0HhE721",
        "colab_type": "code",
        "colab": {}
      },
      "cell_type": "code",
      "source": [
        "model_five = models.Sequential()\n",
        "model_five.add(layers.Conv2D(16, (3, 3), activation='relu', input_shape=(32, 32, 3), data_format=\"channels_last\"))\n",
        "model_five.add(layers.MaxPooling2D((2, 2)))\n",
        "model_five.add(layers.Conv2D(32, (3, 3), activation='relu'))\n",
        "model_five.add(layers.MaxPooling2D(2, 2))\n",
        "model_five.add(layers.Conv2D(32, (3, 3), activation='relu'))\n",
        "model_five.add(layers.MaxPooling2D(2, 2))\n",
        "model_five.add(layers.Flatten())\n",
        "model_five.add(layers.Dense(64, activation='relu'))\n",
        "model_five.add(layers.Dense(10, activation='softmax'))\n",
        "model_five.summary()"
      ],
      "execution_count": 0,
      "outputs": []
    },
    {
      "metadata": {
        "id": "kQgKjW91E6Cq",
        "colab_type": "code",
        "colab": {}
      },
      "cell_type": "code",
      "source": [
        "model_six = models.Sequential()\n",
        "model_six.add(layers.Conv2D(16, (3, 3), activation='relu', input_shape=(32, 32, 3), data_format=\"channels_last\"))\n",
        "model_six.add(layers.MaxPooling2D((2, 2)))\n",
        "model_six.add(layers.Conv2D(32, (3, 3), activation='relu'))\n",
        "model_six.add(layers.MaxPooling2D(2, 2))\n",
        "model_six.add(layers.Conv2D(32, (3, 3), activation='relu'))\n",
        "model_six.add(layers.MaxPooling2D(2, 2))\n",
        "model_six.add(layers.Flatten())\n",
        "model_six.add(layers.Dense(64, activation='relu'))\n",
        "model_six.add(layers.Dense(10, activation='softmax'))\n",
        "model_six.summary()"
      ],
      "execution_count": 0,
      "outputs": []
    },
    {
      "metadata": {
        "id": "NR3b80nz2dxD",
        "colab_type": "text"
      },
      "cell_type": "markdown",
      "source": [
        "Compilation\n",
        "------------------------------"
      ]
    },
    {
      "metadata": {
        "id": "FU6ZLBz62Ynw",
        "colab_type": "code",
        "colab": {}
      },
      "cell_type": "code",
      "source": [
        "model_one.compile(optimizer='rmsprop', \n",
        "              loss='categorical_crossentropy', \n",
        "              metrics=['accuracy'])"
      ],
      "execution_count": 0,
      "outputs": []
    },
    {
      "metadata": {
        "id": "Brfh48njA21f",
        "colab_type": "code",
        "colab": {}
      },
      "cell_type": "code",
      "source": [
        "model_two.compile(optimizer='rmsprop', \n",
        "              loss='categorical_crossentropy', \n",
        "              metrics=['accuracy'])"
      ],
      "execution_count": 0,
      "outputs": []
    },
    {
      "metadata": {
        "id": "ozMC0u3eHEvg",
        "colab_type": "code",
        "colab": {}
      },
      "cell_type": "code",
      "source": [
        "model_three.compile(optimizer='rmsprop', \n",
        "              loss='categorical_crossentropy', \n",
        "              metrics=['accuracy'])"
      ],
      "execution_count": 0,
      "outputs": []
    },
    {
      "metadata": {
        "id": "kIOTUVsr2g2T",
        "colab_type": "text"
      },
      "cell_type": "markdown",
      "source": [
        "Training without k-fold\n",
        "----------------------------"
      ]
    },
    {
      "metadata": {
        "id": "BVlFaKpE2gvW",
        "colab_type": "code",
        "colab": {
          "base_uri": "https://localhost:8080/",
          "height": 237
        },
        "outputId": "96f1649c-21c2-4a90-fda1-8639dfd66a48"
      },
      "cell_type": "code",
      "source": [
        "epochs = 5\n",
        "history_one = model_one.fit(train_images,\n",
        "                           train_labels,\n",
        "                           epochs=epochs,\n",
        "                           validation_split=0.2,\n",
        "                           batch_size=128)"
      ],
      "execution_count": 35,
      "outputs": [
        {
          "output_type": "stream",
          "text": [
            "Train on 40000 samples, validate on 10000 samples\n",
            "Epoch 1/5\n",
            "40000/40000 [==============================] - 390s 10ms/step - loss: 1.4529 - acc: 0.4867 - val_loss: 1.2170 - val_acc: 0.5673\n",
            "Epoch 2/5\n",
            "40000/40000 [==============================] - 372s 9ms/step - loss: 1.0914 - acc: 0.6191 - val_loss: 1.1139 - val_acc: 0.6097\n",
            "Epoch 3/5\n",
            "40000/40000 [==============================] - 369s 9ms/step - loss: 0.8519 - acc: 0.7058 - val_loss: 1.0577 - val_acc: 0.6443\n",
            "Epoch 4/5\n",
            "40000/40000 [==============================] - 367s 9ms/step - loss: 0.6471 - acc: 0.7780 - val_loss: 1.1251 - val_acc: 0.6357\n",
            "Epoch 5/5\n",
            "40000/40000 [==============================] - 369s 9ms/step - loss: 0.4483 - acc: 0.8474 - val_loss: 1.4075 - val_acc: 0.6073\n"
          ],
          "name": "stdout"
        }
      ]
    },
    {
      "metadata": {
        "id": "1nHHw6hyBp8i",
        "colab_type": "code",
        "colab": {
          "base_uri": "https://localhost:8080/",
          "height": 128
        },
        "outputId": "af1bc417-6c43-4d8b-e4f4-7593f820a95e"
      },
      "cell_type": "code",
      "source": [
        "history_two = model_two.fit(train_images,\n",
        "                           train_labels,\n",
        "                           epochs=epochs,\n",
        "                           validation_split=0.2,\n",
        "                           batch_size=128)"
      ],
      "execution_count": 0,
      "outputs": [
        {
          "output_type": "stream",
          "text": [
            "Train on 40000 samples, validate on 10000 samples\n",
            "Epoch 1/5\n",
            "40000/40000 [==============================] - 41s 1ms/step - loss: 1.9268 - acc: 0.2929 - val_loss: 1.7724 - val_acc: 0.3409\n",
            "Epoch 2/5\n",
            "25728/40000 [==================>...........] - ETA: 12s - loss: 1.6677 - acc: 0.3996"
          ],
          "name": "stdout"
        }
      ]
    },
    {
      "metadata": {
        "id": "_SBeq5yEC4-s",
        "colab_type": "code",
        "colab": {
          "base_uri": "https://localhost:8080/",
          "height": 783
        },
        "outputId": "4865d449-a305-45b5-99f0-321c1848bf72"
      },
      "cell_type": "code",
      "source": [
        "epochs_three = 20\n",
        "history_three = model_two.fit(train_images,\n",
        "                           train_labels,\n",
        "                           epochs=epochs_three,\n",
        "                           validation_split=0.2,\n",
        "                           batch_size=128)"
      ],
      "execution_count": 54,
      "outputs": [
        {
          "output_type": "stream",
          "text": [
            "Train on 40000 samples, validate on 10000 samples\n",
            "Epoch 1/20\n",
            "40000/40000 [==============================] - 42s 1ms/step - loss: 1.2700 - acc: 0.5522 - val_loss: 1.2842 - val_acc: 0.5500\n",
            "Epoch 2/20\n",
            "40000/40000 [==============================] - 42s 1ms/step - loss: 1.2223 - acc: 0.5657 - val_loss: 1.1702 - val_acc: 0.5901\n",
            "Epoch 3/20\n",
            "40000/40000 [==============================] - 42s 1ms/step - loss: 1.1720 - acc: 0.5877 - val_loss: 1.2134 - val_acc: 0.5681\n",
            "Epoch 4/20\n",
            "40000/40000 [==============================] - 42s 1ms/step - loss: 1.1348 - acc: 0.6003 - val_loss: 1.1962 - val_acc: 0.5805\n",
            "Epoch 5/20\n",
            "40000/40000 [==============================] - 42s 1ms/step - loss: 1.1028 - acc: 0.6116 - val_loss: 1.1944 - val_acc: 0.5804\n",
            "Epoch 6/20\n",
            "40000/40000 [==============================] - 42s 1ms/step - loss: 1.0706 - acc: 0.6232 - val_loss: 1.2581 - val_acc: 0.5650\n",
            "Epoch 7/20\n",
            "40000/40000 [==============================] - 41s 1ms/step - loss: 1.0433 - acc: 0.6342 - val_loss: 1.1173 - val_acc: 0.6112\n",
            "Epoch 8/20\n",
            "40000/40000 [==============================] - 42s 1ms/step - loss: 1.0161 - acc: 0.6419 - val_loss: 1.1592 - val_acc: 0.6016\n",
            "Epoch 9/20\n",
            "40000/40000 [==============================] - 42s 1ms/step - loss: 0.9901 - acc: 0.6530 - val_loss: 1.0704 - val_acc: 0.6302\n",
            "Epoch 10/20\n",
            "40000/40000 [==============================] - 42s 1ms/step - loss: 0.9703 - acc: 0.6597 - val_loss: 1.1610 - val_acc: 0.6012\n",
            "Epoch 11/20\n",
            "40000/40000 [==============================] - 42s 1ms/step - loss: 0.9509 - acc: 0.6652 - val_loss: 1.0752 - val_acc: 0.6285\n",
            "Epoch 12/20\n",
            "40000/40000 [==============================] - 42s 1ms/step - loss: 0.9296 - acc: 0.6728 - val_loss: 1.1514 - val_acc: 0.6037\n",
            "Epoch 13/20\n",
            "40000/40000 [==============================] - 42s 1ms/step - loss: 0.9105 - acc: 0.6815 - val_loss: 1.2135 - val_acc: 0.5807\n",
            "Epoch 14/20\n",
            "40000/40000 [==============================] - 42s 1ms/step - loss: 0.8962 - acc: 0.6851 - val_loss: 1.1567 - val_acc: 0.6126\n",
            "Epoch 15/20\n",
            "40000/40000 [==============================] - 41s 1ms/step - loss: 0.8799 - acc: 0.6919 - val_loss: 1.0256 - val_acc: 0.6473\n",
            "Epoch 16/20\n",
            "40000/40000 [==============================] - 42s 1ms/step - loss: 0.8637 - acc: 0.6967 - val_loss: 1.0475 - val_acc: 0.6399\n",
            "Epoch 17/20\n",
            "40000/40000 [==============================] - 42s 1ms/step - loss: 0.8532 - acc: 0.6990 - val_loss: 1.0492 - val_acc: 0.6401\n",
            "Epoch 18/20\n",
            "40000/40000 [==============================] - 42s 1ms/step - loss: 0.8370 - acc: 0.7066 - val_loss: 1.0018 - val_acc: 0.6530\n",
            "Epoch 19/20\n",
            "40000/40000 [==============================] - 42s 1ms/step - loss: 0.8239 - acc: 0.7111 - val_loss: 1.0365 - val_acc: 0.6505\n",
            "Epoch 20/20\n",
            "40000/40000 [==============================] - 42s 1ms/step - loss: 0.8104 - acc: 0.7170 - val_loss: 1.0444 - val_acc: 0.6443\n"
          ],
          "name": "stdout"
        }
      ]
    },
    {
      "metadata": {
        "id": "CUx7JEBFHOx8",
        "colab_type": "code",
        "colab": {}
      },
      "cell_type": "code",
      "source": [
        "history_four = model_two.fit(train_images,\n",
        "                           train_labels,\n",
        "                           epochs=epochs,\n",
        "                           validation_split=0.2,\n",
        "                           batch_size=128)"
      ],
      "execution_count": 0,
      "outputs": []
    },
    {
      "metadata": {
        "id": "UjuNpmkW3b66",
        "colab_type": "text"
      },
      "cell_type": "markdown",
      "source": [
        "Graphs\n",
        "--------------"
      ]
    },
    {
      "metadata": {
        "id": "g3z_35FR3eDB",
        "colab_type": "code",
        "colab": {}
      },
      "cell_type": "code",
      "source": [
        "import matplotlib.pyplot as plt\n",
        "\n",
        "history_dict_one = history_one.history\n",
        "loss_values_one = history_dict_one['loss']\n",
        "test_loss_values_one = history_dict_one['val_loss']\n",
        "epochs_range_one = range(1, epochs + 1)"
      ],
      "execution_count": 0,
      "outputs": []
    },
    {
      "metadata": {
        "id": "L1xVKaaV-cAd",
        "colab_type": "code",
        "colab": {
          "base_uri": "https://localhost:8080/",
          "height": 376
        },
        "outputId": "6a3a232b-800f-490a-9bc0-7081c205236a"
      },
      "cell_type": "code",
      "source": [
        "acc_values_one = history_dict_one['acc']\n",
        "test_acc_values_one = history_dict_one['val_acc']\n",
        "\n",
        "plt.plot(epochs_range_one, acc_values_one, 'bo', label='Training accuracy')\n",
        "plt.plot(epochs_range_one, test_acc_values_one, 'ro', label='Test accuracy')\n",
        "plt.title('Training and test accuracy')\n",
        "plt.xlabel('Epochs')\n",
        "plt.ylabel('Accuracy')\n",
        "plt.legend()\n",
        "plt.show()"
      ],
      "execution_count": 41,
      "outputs": [
        {
          "output_type": "display_data",
          "data": {
            "image/png": "[encoded data removed]",
            "text/plain": [
              "<Figure size 576x396 with 1 Axes>"
            ]
          },
          "metadata": {
            "tags": []
          }
        }
      ]
    },
    {
      "metadata": {
        "id": "3TkQn6aa_2r6",
        "colab_type": "text"
      },
      "cell_type": "markdown",
      "source": [
        "Does well on the validation set, but the test accuracy starts to fall with later epochs.\n",
        "\n",
        "Model with only a filter and no maxpooling performs very slowly and poorly"
      ]
    }
  ]
}