{
  "nbformat": 4,
  "nbformat_minor": 0,
  "metadata": {
    "colab": {
      "name": "HW2 Machine Learning bb.ipynb",
      "version": "0.3.2",
      "provenance": [],
      "include_colab_link": true
    },
    "kernelspec": {
      "name": "python3",
      "display_name": "Python 3"
    }
  },
  "cells": [
    {
      "cell_type": "markdown",
      "metadata": {
        "id": "view-in-github",
        "colab_type": "text"
      },
      "source": [
        "<a href=\"https://colab.research.google.com/github/Wasabi-Bobby/MachineLearningHomework/blob/master/HW2_Machine_Learning_bb.ipynb\" target=\"_parent\"><img src=\"https://colab.research.google.com/assets/colab-badge.svg\" alt=\"Open In Colab\"/></a>"
      ]
    },
    {
      "metadata": {
        "id": "lVUScIxVfIBY",
        "colab_type": "code",
        "colab": {}
      },
      "cell_type": "code",
      "source": [
        "from keras.datasets import cifar10\n",
        "\n",
        "(train_images_original, train_labels_original), (test_images_original, test_labels_original) = cifar10.load_data()"
      ],
      "execution_count": 0,
      "outputs": []
    },
    {
      "metadata": {
        "id": "dJE3NKMcxD96",
        "colab_type": "text"
      },
      "cell_type": "markdown",
      "source": [
        "Preparing image and labels\n",
        "-------------\n",
        "\n"
      ]
    },
    {
      "metadata": {
        "id": "oxuHgrrRxxp_",
        "colab_type": "code",
        "colab": {
          "base_uri": "https://localhost:8080/",
          "height": 35
        },
        "outputId": "64b10ffa-29e2-4aa3-91f0-1b56c8007fb2"
      },
      "cell_type": "code",
      "source": [
        "train_images_original.shape"
      ],
      "execution_count": 21,
      "outputs": [
        {
          "output_type": "execute_result",
          "data": {
            "text/plain": [
              "(50000, 32, 32, 3)"
            ]
          },
          "metadata": {
            "tags": []
          },
          "execution_count": 21
        }
      ]
    },
    {
      "metadata": {
        "id": "smLtkeDax0Cw",
        "colab_type": "code",
        "colab": {
          "base_uri": "https://localhost:8080/",
          "height": 35
        },
        "outputId": "0c5bdeb0-744d-4c1d-b36e-9ef948bf1284"
      },
      "cell_type": "code",
      "source": [
        "test_images_original.shape"
      ],
      "execution_count": 23,
      "outputs": [
        {
          "output_type": "execute_result",
          "data": {
            "text/plain": [
              "(10000, 32, 32, 3)"
            ]
          },
          "metadata": {
            "tags": []
          },
          "execution_count": 23
        }
      ]
    },
    {
      "metadata": {
        "id": "-VQeFmzdxFnb",
        "colab_type": "code",
        "colab": {}
      },
      "cell_type": "code",
      "source": [
        "train_images = train_images_original.reshape((50000, 32, 32, 3))\n",
        "train_images = train_images.astype('float32') / 255\n",
        "\n",
        "test_images = test_images_original.reshape((10000, 32, 32, 3))\n",
        "test_images = test_images.astype('float32') / 255"
      ],
      "execution_count": 0,
      "outputs": []
    },
    {
      "metadata": {
        "id": "dfvzqV1kyCPc",
        "colab_type": "code",
        "colab": {}
      },
      "cell_type": "code",
      "source": [
        "from keras.utils import to_categorical\n",
        "\n",
        "train_labels = to_categorical(train_labels_original)\n",
        "test_labels = to_categorical(test_labels_original)"
      ],
      "execution_count": 0,
      "outputs": []
    },
    {
      "metadata": {
        "id": "LZpH3CBWvd2O",
        "colab_type": "text"
      },
      "cell_type": "markdown",
      "source": [
        "Some nice code snippet i found for shuffling two arrays on github. Link -> https://stackoverflow.com/questions/4601373/better-way-to-shuffle-two-numpy-arrays-in-unison"
      ]
    },
    {
      "metadata": {
        "id": "9ujASf_Jvmhm",
        "colab_type": "code",
        "colab": {}
      },
      "cell_type": "code",
      "source": [
        "import numpy as np\n",
        "def unison_shuffled_copies(a, b):\n",
        "    assert len(a) == len(b)\n",
        "    p = np.random.permutation(len(a))\n",
        "    return a[p], b[p]"
      ],
      "execution_count": 0,
      "outputs": []
    },
    {
      "metadata": {
        "id": "2szCyhA7v9uN",
        "colab_type": "text"
      },
      "cell_type": "markdown",
      "source": [
        "Testing this just in case\n",
        "----------------------------\n",
        "It works!"
      ]
    },
    {
      "metadata": {
        "id": "HetbbDSov_eu",
        "colab_type": "code",
        "colab": {
          "base_uri": "https://localhost:8080/",
          "height": 54
        },
        "outputId": "04e3af3d-9942-4c84-8717-9288b4f06908"
      },
      "cell_type": "code",
      "source": [
        "x = np.array([1,2,3,4])\n",
        "y = np.array([1,2,3,4])\n",
        "random_x, random_y = unison_shuffled_copies(x, y)\n",
        "print(random_x)\n",
        "print(random_y)"
      ],
      "execution_count": 12,
      "outputs": [
        {
          "output_type": "stream",
          "text": [
            "[2 1 3 4]\n",
            "[2 1 3 4]\n"
          ],
          "name": "stdout"
        }
      ]
    },
    {
      "metadata": {
        "id": "7cXZQXMfuW6A",
        "colab_type": "text"
      },
      "cell_type": "markdown",
      "source": [
        "Shuffling step + Validation set\n",
        "--------------------\n",
        "Creating Validation and Test set from the data (Not k-fold iteration kind of validation)\n",
        "\n",
        "Actually going to ignore this valid set section for now since keras has a way to set the percentage of a validation set..."
      ]
    },
    {
      "metadata": {
        "id": "7FfFSwdauC1z",
        "colab_type": "code",
        "colab": {}
      },
      "cell_type": "code",
      "source": [
        "#Shuffling array\n",
        "random_train_images, random_train_labels = unison_shuffled_copies(train_images, train_labels)\n",
        "#valid_set = [(random_train_images"
      ],
      "execution_count": 0,
      "outputs": []
    }
  ]
}