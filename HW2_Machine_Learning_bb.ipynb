{
  "nbformat": 4,
  "nbformat_minor": 0,
  "metadata": {
    "colab": {
      "name": "HW2 Machine Learning bb.ipynb",
      "version": "0.3.2",
      "provenance": [],
      "include_colab_link": true
    },
    "kernelspec": {
      "name": "python3",
      "display_name": "Python 3"
    }
  },
  "cells": [
    {
      "cell_type": "markdown",
      "metadata": {
        "id": "view-in-github",
        "colab_type": "text"
      },
      "source": [
        "<a href=\"https://colab.research.google.com/github/Wasabi-Bobby/MachineLearningHomework/blob/master/HW2_Machine_Learning_bb.ipynb\" target=\"_parent\"><img src=\"https://colab.research.google.com/assets/colab-badge.svg\" alt=\"Open In Colab\"/></a>"
      ]
    },
    {
      "metadata": {
        "id": "lVUScIxVfIBY",
        "colab_type": "code",
        "colab": {
          "base_uri": "https://localhost:8080/",
          "height": 72
        },
        "outputId": "9bf92d4c-a822-4037-85f8-ff6802a61ab6"
      },
      "cell_type": "code",
      "source": [
        "from keras.datasets import cifar10\n",
        "\n",
        "(train_images, train_labels), (test_images, test_labels) = cifar10.load_data()"
      ],
      "execution_count": 1,
      "outputs": [
        {
          "output_type": "stream",
          "text": [
            "Using TensorFlow backend.\n"
          ],
          "name": "stderr"
        },
        {
          "output_type": "stream",
          "text": [
            "Downloading data from https://www.cs.toronto.edu/~kriz/cifar-10-python.tar.gz\n",
            "170500096/170498071 [==============================] - 27s 0us/step\n"
          ],
          "name": "stdout"
        }
      ]
    },
    {
      "metadata": {
        "id": "LZpH3CBWvd2O",
        "colab_type": "text"
      },
      "cell_type": "markdown",
      "source": [
        "Some nice code snippet i found for shuffling two arrays on github. Link -> https://stackoverflow.com/questions/4601373/better-way-to-shuffle-two-numpy-arrays-in-unison"
      ]
    },
    {
      "metadata": {
        "id": "9ujASf_Jvmhm",
        "colab_type": "code",
        "colab": {}
      },
      "cell_type": "code",
      "source": [
        "import numpy as np\n",
        "def unison_shuffled_copies(a, b):\n",
        "    assert len(a) == len(b)\n",
        "    p = np.random.permutation(len(a))\n",
        "    return a[p], b[p]"
      ],
      "execution_count": 0,
      "outputs": []
    },
    {
      "metadata": {
        "id": "2szCyhA7v9uN",
        "colab_type": "text"
      },
      "cell_type": "markdown",
      "source": [
        "Testing this just in case\n",
        "----------------------------\n",
        "It works!"
      ]
    },
    {
      "metadata": {
        "id": "HetbbDSov_eu",
        "colab_type": "code",
        "colab": {
          "base_uri": "https://localhost:8080/",
          "height": 54
        },
        "outputId": "04e3af3d-9942-4c84-8717-9288b4f06908"
      },
      "cell_type": "code",
      "source": [
        "x = np.array([1,2,3,4])\n",
        "y = np.array([1,2,3,4])\n",
        "random_x, random_y = unison_shuffled_copies(x, y)\n",
        "print(random_x)\n",
        "print(random_y)"
      ],
      "execution_count": 12,
      "outputs": [
        {
          "output_type": "stream",
          "text": [
            "[2 1 3 4]\n",
            "[2 1 3 4]\n"
          ],
          "name": "stdout"
        }
      ]
    },
    {
      "metadata": {
        "id": "7cXZQXMfuW6A",
        "colab_type": "text"
      },
      "cell_type": "markdown",
      "source": [
        "Shuffling step\n",
        "--------------------\n",
        "Creating Validation and Test set from the data (Not k-fold iteration kind of validation)"
      ]
    },
    {
      "metadata": {
        "id": "7FfFSwdauC1z",
        "colab_type": "code",
        "colab": {}
      },
      "cell_type": "code",
      "source": [
        "#Shuffling array\n",
        "random_train_images, random_train_labels = unison_shuffled_copies(train_images, train_labels)"
      ],
      "execution_count": 0,
      "outputs": []
    }
  ]
}